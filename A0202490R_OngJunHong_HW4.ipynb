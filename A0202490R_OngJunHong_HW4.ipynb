{
 "cells": [
  {
   "cell_type": "markdown",
   "metadata": {},
   "source": [
    "> # Homework 4 \n",
    "> This homework contains several coding tasks and Q&A questions. For coding part, please write codes in corresponding cells. For Q&A, you will see cells with **Answer: HERE**. Please double click those cells and directly write your answer.\n",
    "\n",
    "> You should use Python 3 to do this homework. Python 2 may not be supported. You can use either your own PC or Google Colab to do this homework.\n",
    "\n",
    "\n",
    "\n",
    "> ## Due Date: Nov. 19, 23:00 SG Time\n",
    "> ## Deliverables\n",
    "> Save your notebook `ipynb` file as `StudentID_YourName_HW4.ipynb`, generate an `html` file from `ipynb` file and save as `StudentID_YourName_HW4.html`. Zip your notebook file and html file into a single `zip` file. \n",
    ">\n",
    "> **Upload the `zip` file as `StudentID_YourName_HW4.zip`.**\n",
    ">\n",
    "> **Please make sure your code is executable.**\n",
    ">\n",
    "> ## HW4 has 80 points in total, which worths 8 points in the final assessment."
   ]
  },
  {
   "cell_type": "code",
   "execution_count": 1,
   "metadata": {},
   "outputs": [],
   "source": [
    "# Input your name and studentID\n",
    "name = \"Ong Jun Hong\"\n",
    "stuID = \"A0202490R\""
   ]
  },
  {
   "cell_type": "code",
   "execution_count": 2,
   "metadata": {},
   "outputs": [],
   "source": [
    "# Import packages\n",
    "import numpy as np\n",
    "import pandas as pd\n",
    "\n",
    "import statsmodels.api as sm # recommended version: 0.13.0\n",
    "from statsmodels.miscmodels.ordinal_model import OrderedModel\n",
    "\n",
    "import xgboost as xgb # recommended version: 1.5.0\n",
    "from xgboost import plot_importance\n",
    "\n",
    "# sklearn package is only used for RMSE evaluation, you can write your own function if you like.\n",
    "from sklearn import metrics "
   ]
  },
  {
   "cell_type": "code",
   "execution_count": 3,
   "metadata": {},
   "outputs": [],
   "source": [
    "# To fix random seeds (Note that you may still get slightly different results.)\n",
    "np.random.seed(31415)\n",
    "\n",
    "# To ignore some warnings\n",
    "import warnings\n",
    "from statsmodels.tools.sm_exceptions import ConvergenceWarning\n",
    "warnings.simplefilter('ignore', ConvergenceWarning)"
   ]
  },
  {
   "cell_type": "code",
   "execution_count": 4,
   "metadata": {},
   "outputs": [],
   "source": [
    "# If you are using Google Colab and get an error regarding statsmodels(OrderedModel),\n",
    "# you can use the following line to install statsmodels package\n",
    "# This will takes a few minutes, please RESTART the RUNTIME after installation.\n",
    "\n",
    "# !pip install git+https://github.com/statsmodels/statsmodels"
   ]
  },
  {
   "cell_type": "markdown",
   "metadata": {},
   "source": [
    "# Background Information: About the Data (5 points)\n",
    "The data set is obtained based on the following procedure: we have a set of keywords. For each keyword, we type it in Google, then we get the first 98 websites. It has $20\\times98=1960$ observations in total. We have already split the dataset into training and test (or validation) dataset. The training dataset includes $70\\%$ of observations ($14\\times 98=1372$ rows) while the test dataset includes $30\\%$ of observations ($6\\times 98=588$ rows). "
   ]
  },
  {
   "cell_type": "markdown",
   "metadata": {},
   "source": [
    "There are two data files: Train_2021.csv for training data and Test_2021.csv for testing data. Please do not use Excel to open the data file as it may cause some unexpected errors. If you happen to open the data file by Excel, just download another one from the Homework Folder in LumiNUS."
   ]
  },
  {
   "cell_type": "markdown",
   "metadata": {},
   "source": [
    "## Load Data"
   ]
  },
  {
   "cell_type": "code",
   "execution_count": 5,
   "metadata": {},
   "outputs": [
    {
     "data": {
      "text/html": [
       "<div>\n",
       "<style scoped>\n",
       "    .dataframe tbody tr th:only-of-type {\n",
       "        vertical-align: middle;\n",
       "    }\n",
       "\n",
       "    .dataframe tbody tr th {\n",
       "        vertical-align: top;\n",
       "    }\n",
       "\n",
       "    .dataframe thead th {\n",
       "        text-align: right;\n",
       "    }\n",
       "</style>\n",
       "<table border=\"1\" class=\"dataframe\">\n",
       "  <thead>\n",
       "    <tr style=\"text-align: right;\">\n",
       "      <th></th>\n",
       "      <th>ID</th>\n",
       "      <th>Position</th>\n",
       "      <th>ReverseRank</th>\n",
       "      <th>Title</th>\n",
       "      <th>URL</th>\n",
       "      <th>Meta</th>\n",
       "      <th>TitleFlag</th>\n",
       "      <th>TitleDensity</th>\n",
       "      <th>URLFlag</th>\n",
       "      <th>URLDensity</th>\n",
       "      <th>MetaFlag</th>\n",
       "      <th>MetaDensity</th>\n",
       "      <th>PageAuthority</th>\n",
       "      <th>DomainAuthority</th>\n",
       "      <th>LinkingDomain</th>\n",
       "      <th>InboundLink</th>\n",
       "      <th>RankingKeyword</th>\n",
       "    </tr>\n",
       "  </thead>\n",
       "  <tbody>\n",
       "    <tr>\n",
       "      <th>0</th>\n",
       "      <td>1</td>\n",
       "      <td>1</td>\n",
       "      <td>100</td>\n",
       "      <td>Job Interview Questions Singapore: Answers to ...</td>\n",
       "      <td>https://blog.carousell.com/job-interview-quest...</td>\n",
       "      <td>sep 19 2017 common job interview questions in ...</td>\n",
       "      <td>0</td>\n",
       "      <td>0.3000</td>\n",
       "      <td>0</td>\n",
       "      <td>0.4286</td>\n",
       "      <td>0</td>\n",
       "      <td>0.1017</td>\n",
       "      <td>32</td>\n",
       "      <td>60</td>\n",
       "      <td>4</td>\n",
       "      <td>5.0</td>\n",
       "      <td>4</td>\n",
       "    </tr>\n",
       "    <tr>\n",
       "      <th>1</th>\n",
       "      <td>2</td>\n",
       "      <td>2</td>\n",
       "      <td>99</td>\n",
       "      <td>Job Interview Questions - Hudson Singapore</td>\n",
       "      <td>https://www.hudson.sg/career-advice/job-interv...</td>\n",
       "      <td>discover the five most common job interview qu...</td>\n",
       "      <td>0</td>\n",
       "      <td>0.6000</td>\n",
       "      <td>0</td>\n",
       "      <td>0.2500</td>\n",
       "      <td>0</td>\n",
       "      <td>0.2174</td>\n",
       "      <td>19</td>\n",
       "      <td>30</td>\n",
       "      <td>0</td>\n",
       "      <td>0.0</td>\n",
       "      <td>9</td>\n",
       "    </tr>\n",
       "    <tr>\n",
       "      <th>2</th>\n",
       "      <td>3</td>\n",
       "      <td>3</td>\n",
       "      <td>98</td>\n",
       "      <td>20 tips that will help you ace your next job i...</td>\n",
       "      <td>http://www.asiaone.com/business/20-tips-will-h...</td>\n",
       "      <td>oct 8 2017 with singapore's unemployment rate ...</td>\n",
       "      <td>0</td>\n",
       "      <td>0.2143</td>\n",
       "      <td>0</td>\n",
       "      <td>0.2143</td>\n",
       "      <td>0</td>\n",
       "      <td>0.0645</td>\n",
       "      <td>40</td>\n",
       "      <td>80</td>\n",
       "      <td>3</td>\n",
       "      <td>400.0</td>\n",
       "      <td>0</td>\n",
       "    </tr>\n",
       "    <tr>\n",
       "      <th>3</th>\n",
       "      <td>4</td>\n",
       "      <td>4</td>\n",
       "      <td>97</td>\n",
       "      <td>Common interview questions and answers | Rober...</td>\n",
       "      <td>https://www.roberthalf.com.sg/career-advice/in...</td>\n",
       "      <td>knowing what job interview questions you might...</td>\n",
       "      <td>0</td>\n",
       "      <td>0.1429</td>\n",
       "      <td>0</td>\n",
       "      <td>0.1111</td>\n",
       "      <td>0</td>\n",
       "      <td>0.2500</td>\n",
       "      <td>22</td>\n",
       "      <td>40</td>\n",
       "      <td>0</td>\n",
       "      <td>0.0</td>\n",
       "      <td>4</td>\n",
       "    </tr>\n",
       "    <tr>\n",
       "      <th>4</th>\n",
       "      <td>5</td>\n",
       "      <td>5</td>\n",
       "      <td>96</td>\n",
       "      <td>10 Common Interview Questions and How to ... -...</td>\n",
       "      <td>http://gradsingapore.com/graduate-careers-advi...</td>\n",
       "      <td>don't be caught off guard in an interview try ...</td>\n",
       "      <td>0</td>\n",
       "      <td>0.2000</td>\n",
       "      <td>0</td>\n",
       "      <td>0.0714</td>\n",
       "      <td>0</td>\n",
       "      <td>0.1429</td>\n",
       "      <td>24</td>\n",
       "      <td>33</td>\n",
       "      <td>2</td>\n",
       "      <td>2.0</td>\n",
       "      <td>6</td>\n",
       "    </tr>\n",
       "  </tbody>\n",
       "</table>\n",
       "</div>"
      ],
      "text/plain": [
       "   ID  Position  ReverseRank  \\\n",
       "0   1         1          100   \n",
       "1   2         2           99   \n",
       "2   3         3           98   \n",
       "3   4         4           97   \n",
       "4   5         5           96   \n",
       "\n",
       "                                               Title  \\\n",
       "0  Job Interview Questions Singapore: Answers to ...   \n",
       "1         Job Interview Questions - Hudson Singapore   \n",
       "2  20 tips that will help you ace your next job i...   \n",
       "3  Common interview questions and answers | Rober...   \n",
       "4  10 Common Interview Questions and How to ... -...   \n",
       "\n",
       "                                                 URL  \\\n",
       "0  https://blog.carousell.com/job-interview-quest...   \n",
       "1  https://www.hudson.sg/career-advice/job-interv...   \n",
       "2  http://www.asiaone.com/business/20-tips-will-h...   \n",
       "3  https://www.roberthalf.com.sg/career-advice/in...   \n",
       "4  http://gradsingapore.com/graduate-careers-advi...   \n",
       "\n",
       "                                                Meta  TitleFlag  TitleDensity  \\\n",
       "0  sep 19 2017 common job interview questions in ...          0        0.3000   \n",
       "1  discover the five most common job interview qu...          0        0.6000   \n",
       "2  oct 8 2017 with singapore's unemployment rate ...          0        0.2143   \n",
       "3  knowing what job interview questions you might...          0        0.1429   \n",
       "4  don't be caught off guard in an interview try ...          0        0.2000   \n",
       "\n",
       "   URLFlag  URLDensity  MetaFlag  MetaDensity  PageAuthority  DomainAuthority  \\\n",
       "0        0      0.4286         0       0.1017             32               60   \n",
       "1        0      0.2500         0       0.2174             19               30   \n",
       "2        0      0.2143         0       0.0645             40               80   \n",
       "3        0      0.1111         0       0.2500             22               40   \n",
       "4        0      0.0714         0       0.1429             24               33   \n",
       "\n",
       "   LinkingDomain  InboundLink  RankingKeyword  \n",
       "0              4          5.0               4  \n",
       "1              0          0.0               9  \n",
       "2              3        400.0               0  \n",
       "3              0          0.0               4  \n",
       "4              2          2.0               6  "
      ]
     },
     "execution_count": 5,
     "metadata": {},
     "output_type": "execute_result"
    }
   ],
   "source": [
    "# Load the training and test datasets and print the first 5 rows of the training dataset.\n",
    "# Please use pd.read_csv(\"data.csv\") to load your data\n",
    "train_data = pd.read_csv('Train_2021.csv')\n",
    "\n",
    "test_data = pd.read_csv('Test_2021.csv')\n",
    "\n",
    "train_data.head()"
   ]
  },
  {
   "cell_type": "markdown",
   "metadata": {},
   "source": [
    "There are many columns in the data, e.g., title, url and meta desciptions. The detailed information about each column is in the appendix. We will only use: “TitleFlag”, “TitleDensity”, “URLFlag”, “URLDensity”, “MetaFlag”, “MetaDensity”, “PageAuthority”, “DomainAuthority”, “LinkingDomain”, “InboundLink” and “RankingKeyword” as features, **\"ReverseRank\" as label**."
   ]
  },
  {
   "cell_type": "code",
   "execution_count": 6,
   "metadata": {},
   "outputs": [],
   "source": [
    "# Split feature and label\n",
    "train_feature = train_data.loc[:, ['TitleFlag', 'TitleDensity', 'URLFlag', 'URLDensity', 'MetaFlag', 'MetaDensity', 'PageAuthority', 'DomainAuthority', 'LinkingDomain', 'InboundLink', 'RankingKeyword']]\n",
    "train_label = train_data.loc[:, 'ReverseRank']\n",
    "\n",
    "test_feature = test_data.loc[:, ['TitleFlag', 'TitleDensity', 'URLFlag', 'URLDensity', 'MetaFlag', 'MetaDensity', 'PageAuthority', 'DomainAuthority', 'LinkingDomain', 'InboundLink', 'RankingKeyword']]\n",
    "test_label = test_data.loc[:, 'ReverseRank']"
   ]
  },
  {
   "cell_type": "code",
   "execution_count": 7,
   "metadata": {},
   "outputs": [
    {
     "name": "stdout",
     "output_type": "stream",
     "text": [
      "(1372, 11) (1372,) (588, 11) (588,)\n"
     ]
    }
   ],
   "source": [
    "# Run this cell\n",
    "print(train_feature.shape,\n",
    "      train_label.shape,\n",
    "      test_feature.shape,\n",
    "      test_label.shape)"
   ]
  },
  {
   "cell_type": "code",
   "execution_count": 8,
   "metadata": {},
   "outputs": [
    {
     "data": {
      "text/html": [
       "<div>\n",
       "<style scoped>\n",
       "    .dataframe tbody tr th:only-of-type {\n",
       "        vertical-align: middle;\n",
       "    }\n",
       "\n",
       "    .dataframe tbody tr th {\n",
       "        vertical-align: top;\n",
       "    }\n",
       "\n",
       "    .dataframe thead th {\n",
       "        text-align: right;\n",
       "    }\n",
       "</style>\n",
       "<table border=\"1\" class=\"dataframe\">\n",
       "  <thead>\n",
       "    <tr style=\"text-align: right;\">\n",
       "      <th></th>\n",
       "      <th>ID</th>\n",
       "      <th>Position</th>\n",
       "      <th>ReverseRank</th>\n",
       "      <th>Title</th>\n",
       "      <th>URL</th>\n",
       "      <th>Meta</th>\n",
       "      <th>TitleFlag</th>\n",
       "      <th>TitleDensity</th>\n",
       "      <th>URLFlag</th>\n",
       "      <th>URLDensity</th>\n",
       "      <th>MetaFlag</th>\n",
       "      <th>MetaDensity</th>\n",
       "      <th>PageAuthority</th>\n",
       "      <th>DomainAuthority</th>\n",
       "      <th>LinkingDomain</th>\n",
       "      <th>InboundLink</th>\n",
       "      <th>RankingKeyword</th>\n",
       "    </tr>\n",
       "  </thead>\n",
       "  <tbody>\n",
       "    <tr>\n",
       "      <th>0</th>\n",
       "      <td>1</td>\n",
       "      <td>1</td>\n",
       "      <td>100</td>\n",
       "      <td>Job Interview Questions Singapore: Answers to ...</td>\n",
       "      <td>https://blog.carousell.com/job-interview-quest...</td>\n",
       "      <td>sep 19 2017 common job interview questions in ...</td>\n",
       "      <td>0</td>\n",
       "      <td>0.3000</td>\n",
       "      <td>0</td>\n",
       "      <td>0.4286</td>\n",
       "      <td>0</td>\n",
       "      <td>0.1017</td>\n",
       "      <td>32</td>\n",
       "      <td>60</td>\n",
       "      <td>4</td>\n",
       "      <td>5.0</td>\n",
       "      <td>4</td>\n",
       "    </tr>\n",
       "    <tr>\n",
       "      <th>1</th>\n",
       "      <td>2</td>\n",
       "      <td>2</td>\n",
       "      <td>99</td>\n",
       "      <td>Job Interview Questions - Hudson Singapore</td>\n",
       "      <td>https://www.hudson.sg/career-advice/job-interv...</td>\n",
       "      <td>discover the five most common job interview qu...</td>\n",
       "      <td>0</td>\n",
       "      <td>0.6000</td>\n",
       "      <td>0</td>\n",
       "      <td>0.2500</td>\n",
       "      <td>0</td>\n",
       "      <td>0.2174</td>\n",
       "      <td>19</td>\n",
       "      <td>30</td>\n",
       "      <td>0</td>\n",
       "      <td>0.0</td>\n",
       "      <td>9</td>\n",
       "    </tr>\n",
       "    <tr>\n",
       "      <th>2</th>\n",
       "      <td>3</td>\n",
       "      <td>3</td>\n",
       "      <td>98</td>\n",
       "      <td>20 tips that will help you ace your next job i...</td>\n",
       "      <td>http://www.asiaone.com/business/20-tips-will-h...</td>\n",
       "      <td>oct 8 2017 with singapore's unemployment rate ...</td>\n",
       "      <td>0</td>\n",
       "      <td>0.2143</td>\n",
       "      <td>0</td>\n",
       "      <td>0.2143</td>\n",
       "      <td>0</td>\n",
       "      <td>0.0645</td>\n",
       "      <td>40</td>\n",
       "      <td>80</td>\n",
       "      <td>3</td>\n",
       "      <td>400.0</td>\n",
       "      <td>0</td>\n",
       "    </tr>\n",
       "    <tr>\n",
       "      <th>3</th>\n",
       "      <td>4</td>\n",
       "      <td>4</td>\n",
       "      <td>97</td>\n",
       "      <td>Common interview questions and answers | Rober...</td>\n",
       "      <td>https://www.roberthalf.com.sg/career-advice/in...</td>\n",
       "      <td>knowing what job interview questions you might...</td>\n",
       "      <td>0</td>\n",
       "      <td>0.1429</td>\n",
       "      <td>0</td>\n",
       "      <td>0.1111</td>\n",
       "      <td>0</td>\n",
       "      <td>0.2500</td>\n",
       "      <td>22</td>\n",
       "      <td>40</td>\n",
       "      <td>0</td>\n",
       "      <td>0.0</td>\n",
       "      <td>4</td>\n",
       "    </tr>\n",
       "    <tr>\n",
       "      <th>4</th>\n",
       "      <td>5</td>\n",
       "      <td>5</td>\n",
       "      <td>96</td>\n",
       "      <td>10 Common Interview Questions and How to ... -...</td>\n",
       "      <td>http://gradsingapore.com/graduate-careers-advi...</td>\n",
       "      <td>don't be caught off guard in an interview try ...</td>\n",
       "      <td>0</td>\n",
       "      <td>0.2000</td>\n",
       "      <td>0</td>\n",
       "      <td>0.0714</td>\n",
       "      <td>0</td>\n",
       "      <td>0.1429</td>\n",
       "      <td>24</td>\n",
       "      <td>33</td>\n",
       "      <td>2</td>\n",
       "      <td>2.0</td>\n",
       "      <td>6</td>\n",
       "    </tr>\n",
       "  </tbody>\n",
       "</table>\n",
       "</div>"
      ],
      "text/plain": [
       "   ID  Position  ReverseRank  \\\n",
       "0   1         1          100   \n",
       "1   2         2           99   \n",
       "2   3         3           98   \n",
       "3   4         4           97   \n",
       "4   5         5           96   \n",
       "\n",
       "                                               Title  \\\n",
       "0  Job Interview Questions Singapore: Answers to ...   \n",
       "1         Job Interview Questions - Hudson Singapore   \n",
       "2  20 tips that will help you ace your next job i...   \n",
       "3  Common interview questions and answers | Rober...   \n",
       "4  10 Common Interview Questions and How to ... -...   \n",
       "\n",
       "                                                 URL  \\\n",
       "0  https://blog.carousell.com/job-interview-quest...   \n",
       "1  https://www.hudson.sg/career-advice/job-interv...   \n",
       "2  http://www.asiaone.com/business/20-tips-will-h...   \n",
       "3  https://www.roberthalf.com.sg/career-advice/in...   \n",
       "4  http://gradsingapore.com/graduate-careers-advi...   \n",
       "\n",
       "                                                Meta  TitleFlag  TitleDensity  \\\n",
       "0  sep 19 2017 common job interview questions in ...          0        0.3000   \n",
       "1  discover the five most common job interview qu...          0        0.6000   \n",
       "2  oct 8 2017 with singapore's unemployment rate ...          0        0.2143   \n",
       "3  knowing what job interview questions you might...          0        0.1429   \n",
       "4  don't be caught off guard in an interview try ...          0        0.2000   \n",
       "\n",
       "   URLFlag  URLDensity  MetaFlag  MetaDensity  PageAuthority  DomainAuthority  \\\n",
       "0        0      0.4286         0       0.1017             32               60   \n",
       "1        0      0.2500         0       0.2174             19               30   \n",
       "2        0      0.2143         0       0.0645             40               80   \n",
       "3        0      0.1111         0       0.2500             22               40   \n",
       "4        0      0.0714         0       0.1429             24               33   \n",
       "\n",
       "   LinkingDomain  InboundLink  RankingKeyword  \n",
       "0              4          5.0               4  \n",
       "1              0          0.0               9  \n",
       "2              3        400.0               0  \n",
       "3              0          0.0               4  \n",
       "4              2          2.0               6  "
      ]
     },
     "execution_count": 8,
     "metadata": {},
     "output_type": "execute_result"
    }
   ],
   "source": [
    "# Run this cell\n",
    "train_data.head(5)"
   ]
  },
  {
   "cell_type": "code",
   "execution_count": 9,
   "metadata": {},
   "outputs": [],
   "source": [
    "# Run this cell\n",
    "# This serves as your data input\n",
    "# Please pay attention to your data type!\n",
    "\n",
    "X_train = train_feature # trainig feature, as a pandas dataframe\n",
    "X_test = test_feature # test feature, as a pandas dataframe\n",
    "\n",
    "y_train = train_label.values # training label, as a numpy array\n",
    "y_test = test_label.values # test label, as a numpy array"
   ]
  },
  {
   "cell_type": "markdown",
   "metadata": {},
   "source": [
    "**Please be aware of the problem of shallow copy and deep copy. To avoid any issues, you are recommended to load data separately for each problem, although they may be the same.**"
   ]
  },
  {
   "cell_type": "markdown",
   "metadata": {},
   "source": [
    "# Problem 1. (Pointwise Rank -- Linear Regression) (10 points)\n",
    "Please use the training dataset to fit a linear regression with all variables aforementioned. **Use the `ReverseRank` as the target variable**. Please use the trained linear regression model to predict the rank in the test dataset and report the root mean square error (RMSE) of the prediction (i.e., $\\sqrt{\\frac{1}{n}\\sum_{i=1}^n(y_i-\\hat{y}_i)^2}$, where $n$ is the total number of data points in the test dataset, $y_i$ is the true value of the target variable in the test dataset, and $\\hat{y}_i$ is your model prediction).  (5 points)\n",
    "\n",
    "Reference: https://www.statsmodels.org/dev/examples/notebooks/generated/ols.html"
   ]
  },
  {
   "cell_type": "code",
   "execution_count": 10,
   "metadata": {},
   "outputs": [],
   "source": [
    "# Data Input if any\n",
    "X_train = train_feature.copy() # trainig feature, as a pandas dataframe\n",
    "X_test = test_feature.copy() # test feature, as a pandas dataframe\n",
    "\n",
    "y_train = train_label.copy().values # training label, as a numpy array\n",
    "y_test = test_label.copy().values # test label, as a numpy array"
   ]
  },
  {
   "cell_type": "code",
   "execution_count": 11,
   "metadata": {},
   "outputs": [],
   "source": [
    "# Model: USE sm.OLS(y_train,X_train)\n",
    "# Fit: USE model.fit()\n",
    "# y_train is a numpy array from train_label, X_train is a pandas dataframe from train_feature.\n",
    "# Remember to add an intercept by sm.add_constant() to both train and test data!\n",
    "\n",
    "X_train = sm.add_constant(X_train)\n",
    "model_ols = sm.OLS(y_train, X_train)\n",
    "result = model_ols.fit()"
   ]
  },
  {
   "cell_type": "code",
   "execution_count": 12,
   "metadata": {},
   "outputs": [
    {
     "name": "stdout",
     "output_type": "stream",
     "text": [
      "                            OLS Regression Results                            \n",
      "==============================================================================\n",
      "Dep. Variable:                      y   R-squared:                       0.104\n",
      "Model:                            OLS   Adj. R-squared:                  0.097\n",
      "Method:                 Least Squares   F-statistic:                     14.39\n",
      "Date:                Sat, 20 Nov 2021   Prob (F-statistic):           1.33e-26\n",
      "Time:                        20:53:13   Log-Likelihood:                -6457.1\n",
      "No. Observations:                1372   AIC:                         1.294e+04\n",
      "Df Residuals:                    1360   BIC:                         1.300e+04\n",
      "Df Model:                          11                                         \n",
      "Covariance Type:            nonrobust                                         \n",
      "===================================================================================\n",
      "                      coef    std err          t      P>|t|      [0.025      0.975]\n",
      "-----------------------------------------------------------------------------------\n",
      "const              32.4841      3.072     10.575      0.000      26.458      38.510\n",
      "TitleFlag          11.0206      4.107      2.683      0.007       2.964      19.078\n",
      "TitleDensity       15.7273      5.382      2.922      0.004       5.168      26.286\n",
      "URLFlag            -2.5156      4.326     -0.581      0.561     -11.003       5.972\n",
      "URLDensity         34.8241      7.117      4.893      0.000      20.862      48.786\n",
      "MetaFlag           -3.3674      2.005     -1.680      0.093      -7.300       0.565\n",
      "MetaDensity        18.6692     11.354      1.644      0.100      -3.605      40.943\n",
      "PageAuthority       0.0907      0.123      0.737      0.461      -0.151       0.332\n",
      "DomainAuthority     0.1167      0.055      2.122      0.034       0.009       0.225\n",
      "LinkingDomain      -0.0012      0.001     -1.342      0.180      -0.003       0.001\n",
      "InboundLink     -1.855e-05   2.88e-05     -0.645      0.519    -7.5e-05    3.79e-05\n",
      "RankingKeyword     -0.0043      0.003     -1.342      0.180      -0.011       0.002\n",
      "==============================================================================\n",
      "Omnibus:                      294.603   Durbin-Watson:                   0.264\n",
      "Prob(Omnibus):                  0.000   Jarque-Bera (JB):               58.136\n",
      "Skew:                          -0.077   Prob(JB):                     2.38e-13\n",
      "Kurtosis:                       2.004   Cond. No.                     7.44e+05\n",
      "==============================================================================\n",
      "\n",
      "Notes:\n",
      "[1] Standard Errors assume that the covariance matrix of the errors is correctly specified.\n",
      "[2] The condition number is large, 7.44e+05. This might indicate that there are\n",
      "strong multicollinearity or other numerical problems.\n"
     ]
    }
   ],
   "source": [
    "# Print model summary by model.summary()\n",
    "print(result.summary())"
   ]
  },
  {
   "cell_type": "code",
   "execution_count": 13,
   "metadata": {},
   "outputs": [],
   "source": [
    "# Make prediction \n",
    "X_test = sm.add_constant(X_test)\n",
    "y_pred = result.predict(X_test)"
   ]
  },
  {
   "cell_type": "code",
   "execution_count": 14,
   "metadata": {},
   "outputs": [
    {
     "name": "stdout",
     "output_type": "stream",
     "text": [
      "37.15072457246814\n"
     ]
    }
   ],
   "source": [
    "# Print RMSE, y_test is a numpy array from test_label, y_pred is a numpy array from your model prediction\n",
    "print(metrics.mean_squared_error(y_test, y_pred, squared=False))"
   ]
  },
  {
   "cell_type": "markdown",
   "metadata": {},
   "source": [
    "Pick the most statistically significant variable and interpret its estimated beta coefficient. (5 points)"
   ]
  },
  {
   "cell_type": "markdown",
   "metadata": {},
   "source": [
    "Answer: The most statistically significant variable is: <code>URLDensity</code>. A beta coefficient of 34.8241 would mean that a 1 point increase in URLDensity (i.e. from 0.1 to 1.1) would improve my page's position in the query result by 34.8241 places.\n",
    "\n",
    "However as you cannot achieve a 110% URL density normally, a more practical explanation would be increasing the URLDensity score by 0.1 (i.e 0.1 to 0.2) would lead to an improvement of 3.48241 places in the query result."
   ]
  },
  {
   "cell_type": "markdown",
   "metadata": {},
   "source": [
    "# Problem 2. (Pointwise Rank -- Logistic Regression) (15 points)\n",
    "\n",
    "For logistic regression in general, it does not require to have an ordinal relationship among the different class labels of the target variable, e.g., class 1 does not have to imply superiority or inferiority when being compared with class 2. However, in some settings, one type of label does imply a higher value than other types of labels (e.g., in the final grade, $A$ is better than $B$). We will use **ordinal** logistic regression for this problem. (5 points)"
   ]
  },
  {
   "cell_type": "markdown",
   "metadata": {},
   "source": [
    "Please use the training dataset to fit an **ordinal** logistic regression model with all variables aforementioned. **Use the `ReverseRank` as the target variable**.\n",
    "\n",
    "Note that you may not be able to run ordinal logistic regression because the distributions of several variables are too skewed. You can use `new_variable = np.log(the_problematic_variable+1)` to **transform those variables in both training and testing data.** (5 points)\n",
    "\n",
    "Please use the trained ordinal logistic regression model to predict the rank in the test dataset. Print the predicted rank on the test dataset and report the RMSE of the prediction. \n",
    "\n",
    "Reference: https://www.statsmodels.org/dev/examples/notebooks/generated/ordinal_regression.html"
   ]
  },
  {
   "cell_type": "code",
   "execution_count": 15,
   "metadata": {},
   "outputs": [],
   "source": [
    "# Data Input if any\n",
    "X_train = train_feature.copy() # trainig feature, as a pandas dataframe\n",
    "X_test = test_feature.copy() # test feature, as a pandas dataframe\n",
    "\n",
    "y_train = train_label.copy().values # training label, as a numpy array\n",
    "y_test = test_label.copy().values # test label, as a numpy array"
   ]
  },
  {
   "cell_type": "code",
   "execution_count": 16,
   "metadata": {},
   "outputs": [
    {
     "data": {
      "text/html": [
       "<div>\n",
       "<style scoped>\n",
       "    .dataframe tbody tr th:only-of-type {\n",
       "        vertical-align: middle;\n",
       "    }\n",
       "\n",
       "    .dataframe tbody tr th {\n",
       "        vertical-align: top;\n",
       "    }\n",
       "\n",
       "    .dataframe thead th {\n",
       "        text-align: right;\n",
       "    }\n",
       "</style>\n",
       "<table border=\"1\" class=\"dataframe\">\n",
       "  <thead>\n",
       "    <tr style=\"text-align: right;\">\n",
       "      <th></th>\n",
       "      <th>TitleFlag</th>\n",
       "      <th>TitleDensity</th>\n",
       "      <th>URLFlag</th>\n",
       "      <th>URLDensity</th>\n",
       "      <th>MetaFlag</th>\n",
       "      <th>MetaDensity</th>\n",
       "      <th>PageAuthority</th>\n",
       "      <th>DomainAuthority</th>\n",
       "      <th>LinkingDomain</th>\n",
       "      <th>InboundLink</th>\n",
       "      <th>RankingKeyword</th>\n",
       "    </tr>\n",
       "  </thead>\n",
       "  <tbody>\n",
       "    <tr>\n",
       "      <th>count</th>\n",
       "      <td>1372.000000</td>\n",
       "      <td>1372.000000</td>\n",
       "      <td>1372.000000</td>\n",
       "      <td>1372.000000</td>\n",
       "      <td>1372.000000</td>\n",
       "      <td>1372.000000</td>\n",
       "      <td>1372.000000</td>\n",
       "      <td>1372.000000</td>\n",
       "      <td>1372.000000</td>\n",
       "      <td>1372.000000</td>\n",
       "      <td>1372.000000</td>\n",
       "    </tr>\n",
       "    <tr>\n",
       "      <th>mean</th>\n",
       "      <td>0.052478</td>\n",
       "      <td>0.214573</td>\n",
       "      <td>0.045918</td>\n",
       "      <td>0.129700</td>\n",
       "      <td>0.172741</td>\n",
       "      <td>0.139981</td>\n",
       "      <td>33.062682</td>\n",
       "      <td>52.835277</td>\n",
       "      <td>213.226676</td>\n",
       "      <td>4746.748542</td>\n",
       "      <td>45.609329</td>\n",
       "    </tr>\n",
       "    <tr>\n",
       "      <th>std</th>\n",
       "      <td>0.223071</td>\n",
       "      <td>0.165934</td>\n",
       "      <td>0.209384</td>\n",
       "      <td>0.129054</td>\n",
       "      <td>0.378161</td>\n",
       "      <td>0.069039</td>\n",
       "      <td>11.515904</td>\n",
       "      <td>24.432446</td>\n",
       "      <td>1683.831729</td>\n",
       "      <td>46706.309575</td>\n",
       "      <td>260.055053</td>\n",
       "    </tr>\n",
       "    <tr>\n",
       "      <th>min</th>\n",
       "      <td>0.000000</td>\n",
       "      <td>0.000000</td>\n",
       "      <td>0.000000</td>\n",
       "      <td>0.000000</td>\n",
       "      <td>0.000000</td>\n",
       "      <td>0.000000</td>\n",
       "      <td>1.000000</td>\n",
       "      <td>2.000000</td>\n",
       "      <td>0.000000</td>\n",
       "      <td>0.000000</td>\n",
       "      <td>0.000000</td>\n",
       "    </tr>\n",
       "    <tr>\n",
       "      <th>25%</th>\n",
       "      <td>0.000000</td>\n",
       "      <td>0.100000</td>\n",
       "      <td>0.000000</td>\n",
       "      <td>0.000000</td>\n",
       "      <td>0.000000</td>\n",
       "      <td>0.095200</td>\n",
       "      <td>26.000000</td>\n",
       "      <td>34.000000</td>\n",
       "      <td>0.000000</td>\n",
       "      <td>0.000000</td>\n",
       "      <td>0.000000</td>\n",
       "    </tr>\n",
       "    <tr>\n",
       "      <th>50%</th>\n",
       "      <td>0.000000</td>\n",
       "      <td>0.200000</td>\n",
       "      <td>0.000000</td>\n",
       "      <td>0.111100</td>\n",
       "      <td>0.000000</td>\n",
       "      <td>0.130400</td>\n",
       "      <td>32.000000</td>\n",
       "      <td>51.000000</td>\n",
       "      <td>3.000000</td>\n",
       "      <td>5.000000</td>\n",
       "      <td>3.000000</td>\n",
       "    </tr>\n",
       "    <tr>\n",
       "      <th>75%</th>\n",
       "      <td>0.000000</td>\n",
       "      <td>0.333300</td>\n",
       "      <td>0.000000</td>\n",
       "      <td>0.202625</td>\n",
       "      <td>0.000000</td>\n",
       "      <td>0.173900</td>\n",
       "      <td>40.000000</td>\n",
       "      <td>71.000000</td>\n",
       "      <td>22.000000</td>\n",
       "      <td>69.250000</td>\n",
       "      <td>17.000000</td>\n",
       "    </tr>\n",
       "    <tr>\n",
       "      <th>max</th>\n",
       "      <td>1.000000</td>\n",
       "      <td>0.857100</td>\n",
       "      <td>1.000000</td>\n",
       "      <td>0.714300</td>\n",
       "      <td>1.000000</td>\n",
       "      <td>0.571400</td>\n",
       "      <td>78.000000</td>\n",
       "      <td>100.000000</td>\n",
       "      <td>40500.000000</td>\n",
       "      <td>1000000.000000</td>\n",
       "      <td>4600.000000</td>\n",
       "    </tr>\n",
       "  </tbody>\n",
       "</table>\n",
       "</div>"
      ],
      "text/plain": [
       "         TitleFlag  TitleDensity      URLFlag   URLDensity     MetaFlag  \\\n",
       "count  1372.000000   1372.000000  1372.000000  1372.000000  1372.000000   \n",
       "mean      0.052478      0.214573     0.045918     0.129700     0.172741   \n",
       "std       0.223071      0.165934     0.209384     0.129054     0.378161   \n",
       "min       0.000000      0.000000     0.000000     0.000000     0.000000   \n",
       "25%       0.000000      0.100000     0.000000     0.000000     0.000000   \n",
       "50%       0.000000      0.200000     0.000000     0.111100     0.000000   \n",
       "75%       0.000000      0.333300     0.000000     0.202625     0.000000   \n",
       "max       1.000000      0.857100     1.000000     0.714300     1.000000   \n",
       "\n",
       "       MetaDensity  PageAuthority  DomainAuthority  LinkingDomain  \\\n",
       "count  1372.000000    1372.000000      1372.000000    1372.000000   \n",
       "mean      0.139981      33.062682        52.835277     213.226676   \n",
       "std       0.069039      11.515904        24.432446    1683.831729   \n",
       "min       0.000000       1.000000         2.000000       0.000000   \n",
       "25%       0.095200      26.000000        34.000000       0.000000   \n",
       "50%       0.130400      32.000000        51.000000       3.000000   \n",
       "75%       0.173900      40.000000        71.000000      22.000000   \n",
       "max       0.571400      78.000000       100.000000   40500.000000   \n",
       "\n",
       "          InboundLink  RankingKeyword  \n",
       "count     1372.000000     1372.000000  \n",
       "mean      4746.748542       45.609329  \n",
       "std      46706.309575      260.055053  \n",
       "min          0.000000        0.000000  \n",
       "25%          0.000000        0.000000  \n",
       "50%          5.000000        3.000000  \n",
       "75%         69.250000       17.000000  \n",
       "max    1000000.000000     4600.000000  "
      ]
     },
     "execution_count": 16,
     "metadata": {},
     "output_type": "execute_result"
    }
   ],
   "source": [
    "X_train.describe()"
   ]
  },
  {
   "cell_type": "code",
   "execution_count": 17,
   "metadata": {},
   "outputs": [],
   "source": [
    "# Adjust your input\n",
    "# Please specify which parts of data you do a log transformation on.\n",
    "X_train.loc[:, 'LinkingDomain'] = np.log(X_train.loc[:, 'LinkingDomain'] + 1)\n",
    "X_train.loc[:, 'InboundLink'] = np.log(X_train.loc[:, 'InboundLink'] + 1)\n",
    "X_train.loc[:, 'RankingKeyword'] = np.log(X_train.loc[:, 'RankingKeyword'] + 1)\n",
    "\n",
    "X_test.loc[:, 'LinkingDomain'] = np.log(X_test.loc[:, 'LinkingDomain'] + 1)\n",
    "X_test.loc[:, 'InboundLink'] = np.log(X_test.loc[:, 'InboundLink'] + 1)\n",
    "X_test.loc[:, 'RankingKeyword'] = np.log(X_test.loc[:, 'RankingKeyword'] + 1)"
   ]
  },
  {
   "cell_type": "code",
   "execution_count": 18,
   "metadata": {},
   "outputs": [],
   "source": [
    "# Model: USE OrderedModel(y_train, X_train, distr='logit')\n",
    "# Fit: USE model.fit(method='bfgs', disp=False)\n",
    "# y_train is a numpy array from train_label, X_train is a pandas dataframe from train_feature.\n",
    "model_logit = OrderedModel(y_train, X_train, distr='logit')\n",
    "result = model_logit.fit(method='bfgs', disp=False)"
   ]
  },
  {
   "cell_type": "code",
   "execution_count": 19,
   "metadata": {
    "scrolled": false
   },
   "outputs": [
    {
     "name": "stdout",
     "output_type": "stream",
     "text": [
      "                             OrderedModel Results                             \n",
      "==============================================================================\n",
      "Dep. Variable:                      y   Log-Likelihood:                -6220.1\n",
      "Model:                   OrderedModel   AIC:                         1.266e+04\n",
      "Method:            Maximum Likelihood   BIC:                         1.322e+04\n",
      "Date:                Sat, 20 Nov 2021                                         \n",
      "Time:                        20:53:34                                         \n",
      "No. Observations:                1372                                         \n",
      "Df Residuals:                    1264                                         \n",
      "Df Model:                         108                                         \n",
      "===================================================================================\n",
      "                      coef    std err          z      P>|z|      [0.025      0.975]\n",
      "-----------------------------------------------------------------------------------\n",
      "TitleFlag           0.8615      0.275      3.129      0.002       0.322       1.401\n",
      "TitleDensity        1.0371      0.352      2.948      0.003       0.348       1.727\n",
      "URLFlag            -0.1407      0.286     -0.492      0.623      -0.701       0.420\n",
      "URLDensity          2.2298      0.477      4.674      0.000       1.295       3.165\n",
      "MetaFlag           -0.1992      0.131     -1.516      0.130      -0.457       0.058\n",
      "MetaDensity         1.4779      0.733      2.015      0.044       0.040       2.916\n",
      "PageAuthority      -0.0006      0.020     -0.030      0.976      -0.040       0.039\n",
      "DomainAuthority     0.0076      0.008      0.952      0.341      -0.008       0.023\n",
      "LinkingDomain      -0.0072      0.105     -0.069      0.945      -0.212       0.198\n",
      "InboundLink        -0.0381      0.053     -0.713      0.476      -0.143       0.067\n",
      "RankingKeyword      0.0714      0.036      1.977      0.048       0.001       0.142\n",
      "3/4                -3.6077      0.342    -10.547      0.000      -4.278      -2.937\n",
      "4/5                -0.3480      0.271     -1.284      0.199      -0.879       0.183\n",
      "5/6                -0.8724      0.268     -3.260      0.001      -1.397      -0.348\n",
      "6/7                -1.2048      0.267     -4.517      0.000      -1.728      -0.682\n",
      "7/8                -1.4487      0.266     -5.438      0.000      -1.971      -0.927\n",
      "8/9                -1.6396      0.266     -6.159      0.000      -2.161      -1.118\n",
      "9/10               -1.7931      0.266     -6.740      0.000      -2.315      -1.272\n",
      "10/11              -1.9197      0.266     -7.219      0.000      -2.441      -1.398\n",
      "11/12              -2.0318      0.266     -7.642      0.000      -2.553      -1.511\n",
      "12/13              -2.1322      0.266     -8.020      0.000      -2.653      -1.611\n",
      "13/14              -2.2208      0.266     -8.353      0.000      -2.742      -1.700\n",
      "14/15              -2.2994      0.266     -8.649      0.000      -2.820      -1.778\n",
      "15/16              -2.3672      0.266     -8.905      0.000      -2.888      -1.846\n",
      "16/17              -2.4304      0.266     -9.143      0.000      -2.951      -1.909\n",
      "17/18              -2.4887      0.266     -9.363      0.000      -3.010      -1.968\n",
      "18/19              -2.5419      0.266     -9.563      0.000      -3.063      -2.021\n",
      "19/20              -2.5942      0.266     -9.759      0.000      -3.115      -2.073\n",
      "20/21              -2.6411      0.266     -9.935      0.000      -3.162      -2.120\n",
      "21/22              -2.6819      0.266    -10.089      0.000      -3.203      -2.161\n",
      "22/23              -2.7201      0.266    -10.233      0.000      -3.241      -2.199\n",
      "23/24              -2.7565      0.266    -10.369      0.000      -3.278      -2.235\n",
      "24/25              -2.7908      0.266    -10.498      0.000      -3.312      -2.270\n",
      "25/26              -2.8204      0.266    -10.609      0.000      -3.341      -2.299\n",
      "26/27              -2.8469      0.266    -10.709      0.000      -3.368      -2.326\n",
      "27/28              -2.8728      0.266    -10.807      0.000      -3.394      -2.352\n",
      "28/29              -2.8960      0.266    -10.894      0.000      -3.417      -2.375\n",
      "29/30              -2.9156      0.266    -10.968      0.000      -3.437      -2.395\n",
      "30/31              -2.9339      0.266    -11.037      0.000      -3.455      -2.413\n",
      "31/32              -2.9545      0.266    -11.114      0.000      -3.476      -2.434\n",
      "32/33              -2.9747      0.266    -11.190      0.000      -3.496      -2.454\n",
      "33/34              -2.9904      0.266    -11.249      0.000      -3.511      -2.469\n",
      "34/35              -3.0049      0.266    -11.303      0.000      -3.526      -2.484\n",
      "35/36              -3.0185      0.266    -11.354      0.000      -3.540      -2.497\n",
      "36/37              -3.0301      0.266    -11.398      0.000      -3.551      -2.509\n",
      "37/38              -3.0416      0.266    -11.441      0.000      -3.563      -2.521\n",
      "38/39              -3.0556      0.266    -11.493      0.000      -3.577      -2.534\n",
      "39/40              -3.0677      0.266    -11.538      0.000      -3.589      -2.547\n",
      "40/41              -3.0764      0.266    -11.571      0.000      -3.598      -2.555\n",
      "41/42              -3.0853      0.266    -11.604      0.000      -3.606      -2.564\n",
      "42/43              -3.0946      0.266    -11.639      0.000      -3.616      -2.573\n",
      "43/44              -3.1030      0.266    -11.670      0.000      -3.624      -2.582\n",
      "44/45              -3.1067      0.266    -11.684      0.000      -3.628      -2.586\n",
      "45/46              -3.1089      0.266    -11.693      0.000      -3.630      -2.588\n",
      "46/47              -3.1111      0.266    -11.701      0.000      -3.632      -2.590\n",
      "47/48              -3.1148      0.266    -11.715      0.000      -3.636      -2.594\n",
      "48/49              -3.1221      0.266    -11.742      0.000      -3.643      -2.601\n",
      "49/50              -3.1255      0.266    -11.754      0.000      -3.647      -2.604\n",
      "50/51              -3.1250      0.266    -11.753      0.000      -3.646      -2.604\n",
      "51/52              -3.1280      0.266    -11.764      0.000      -3.649      -2.607\n",
      "52/53              -3.1314      0.266    -11.776      0.000      -3.653      -2.610\n",
      "53/54              -3.1338      0.266    -11.785      0.000      -3.655      -2.613\n",
      "54/55              -3.1342      0.266    -11.787      0.000      -3.655      -2.613\n",
      "55/56              -3.1334      0.266    -11.783      0.000      -3.655      -2.612\n",
      "56/57              -3.1319      0.266    -11.777      0.000      -3.653      -2.611\n",
      "57/58              -3.1276      0.266    -11.762      0.000      -3.649      -2.606\n",
      "58/59              -3.1210      0.266    -11.737      0.000      -3.642      -2.600\n",
      "59/60              -3.1132      0.266    -11.708      0.000      -3.634      -2.592\n",
      "60/61              -3.1044      0.266    -11.675      0.000      -3.626      -2.583\n",
      "61/62              -3.0947      0.266    -11.638      0.000      -3.616      -2.574\n",
      "62/63              -3.0845      0.266    -11.600      0.000      -3.606      -2.563\n",
      "63/64              -3.0736      0.266    -11.559      0.000      -3.595      -2.552\n",
      "64/65              -3.0648      0.266    -11.526      0.000      -3.586      -2.544\n",
      "65/66              -3.0530      0.266    -11.482      0.000      -3.574      -2.532\n",
      "66/67              -3.0387      0.266    -11.428      0.000      -3.560      -2.518\n",
      "67/68              -3.0266      0.266    -11.383      0.000      -3.548      -2.505\n",
      "68/69              -3.0125      0.266    -11.330      0.000      -3.534      -2.491\n",
      "69/70              -2.9972      0.266    -11.273      0.000      -3.518      -2.476\n",
      "70/71              -2.9787      0.266    -11.204      0.000      -3.500      -2.458\n",
      "71/72              -2.9553      0.266    -11.116      0.000      -3.476      -2.434\n",
      "72/73              -2.9310      0.266    -11.025      0.000      -3.452      -2.410\n",
      "73/74              -2.9078      0.266    -10.938      0.000      -3.429      -2.387\n",
      "74/75              -2.8858      0.266    -10.856      0.000      -3.407      -2.365\n",
      "75/76              -2.8633      0.266    -10.771      0.000      -3.384      -2.342\n",
      "76/77              -2.8368      0.266    -10.672      0.000      -3.358      -2.316\n",
      "77/78              -2.8067      0.266    -10.560      0.000      -3.328      -2.286\n",
      "78/79              -2.7773      0.266    -10.449      0.000      -3.298      -2.256\n",
      "79/80              -2.7436      0.266    -10.322      0.000      -3.265      -2.223\n",
      "80/81              -2.7058      0.266    -10.181      0.000      -3.227      -2.185\n",
      "81/82              -2.6692      0.266    -10.044      0.000      -3.190      -2.148\n",
      "82/83              -2.6338      0.266     -9.911      0.000      -3.155      -2.113\n",
      "83/84              -2.5922      0.266     -9.755      0.000      -3.113      -2.071\n",
      "84/85              -2.5425      0.266     -9.569      0.000      -3.063      -2.022\n",
      "85/86              -2.4966      0.266     -9.397      0.000      -3.017      -1.976\n",
      "86/87              -2.4489      0.266     -9.217      0.000      -2.970      -1.928\n",
      "87/88              -2.3910      0.266     -9.000      0.000      -2.912      -1.870\n",
      "88/89              -2.3270      0.266     -8.760      0.000      -2.848      -1.806\n",
      "89/90              -2.2569      0.266     -8.497      0.000      -2.778      -1.736\n",
      "90/91              -2.1808      0.266     -8.211      0.000      -2.701      -1.660\n",
      "91/92              -2.1000      0.266     -7.906      0.000      -2.621      -1.579\n",
      "92/93              -2.0055      0.266     -7.549      0.000      -2.526      -1.485\n",
      "93/94              -1.8910      0.266     -7.119      0.000      -2.412      -1.370\n",
      "94/95              -1.7567      0.266     -6.614      0.000      -2.277      -1.236\n",
      "95/96              -1.6018      0.266     -6.031      0.000      -2.122      -1.081\n",
      "96/97              -1.4186      0.266     -5.338      0.000      -1.939      -0.898\n",
      "97/98              -1.1834      0.266     -4.447      0.000      -1.705      -0.662\n",
      "98/99              -0.8590      0.267     -3.217      0.001      -1.382      -0.336\n",
      "99/100             -0.3407      0.271     -1.259      0.208      -0.871       0.190\n",
      "===================================================================================\n"
     ]
    }
   ],
   "source": [
    "# Print model summary by model.summary()\n",
    "print(result.summary())"
   ]
  },
  {
   "cell_type": "code",
   "execution_count": 20,
   "metadata": {},
   "outputs": [
    {
     "name": "stderr",
     "output_type": "stream",
     "text": [
      "C:\\Users\\JunHo\\anaconda3\\lib\\site-packages\\statsmodels\\miscmodels\\ordinal_model.py:419: FutureWarning: Support for multi-dimensional indexing (e.g. `obj[:, None]`) is deprecated and will be removed in a future version.  Convert to a numpy array before indexing instead.\n",
      "  xb = xb[:, None]\n"
     ]
    }
   ],
   "source": [
    "# Make prediction: assume the predicted output of this model is y_pred, \n",
    "# for this problem, you need to do y_pred.argmax(1)+3 to get the real output.\n",
    "# Please refer to the reference above for how to make prediction properly.\n",
    "predicted = result.model.predict(result.params, exog=X_test)\n",
    "y_pred = predicted.argmax(1) + 3"
   ]
  },
  {
   "cell_type": "code",
   "execution_count": 21,
   "metadata": {},
   "outputs": [
    {
     "name": "stdout",
     "output_type": "stream",
     "text": [
      "37.61908529232592\n"
     ]
    }
   ],
   "source": [
    "# Print RMSE, y_test is a numpy array from test_label, y_pred is a numpy array from your model prediction\n",
    "print(metrics.mean_squared_error(y_test, y_pred, squared=False))"
   ]
  },
  {
   "cell_type": "markdown",
   "metadata": {},
   "source": [
    "Pick the most statistically significant variable and interpret its estimated beta coefficient. (5 points)"
   ]
  },
  {
   "cell_type": "markdown",
   "metadata": {},
   "source": [
    "Answer: The most statistically significant variable is: <code>URLDensity</code>. A beta coefficient of 2.2298 would mean that a 0.1 point increase in URLDensity (i.e. from 0.1 to 0.2) would improve the odds of my page ranking higher in the query result by $\\exp{(0.22298)} = 1.2498$ or 24.98% increase in odds."
   ]
  },
  {
   "cell_type": "markdown",
   "metadata": {},
   "source": [
    "# Problem 3. (Pairwise Rank -- xgboost) (35 points)\n",
    "Please use the training dataset to fit an XGboost model with all variables aforementioned. **Use the `ReverseRank` as the target variable**. \n",
    "\n",
    "Show the feature importance plot. Use \"Gain\" for `measure` in the importance plot. \n",
    "\n",
    "For the XGboost prediction, please interpret the importance value of the most important variable. Please use the trained XGboost model to predict the rank in the test dataset and report the RMSE of the prediction. \n",
    "\n",
    "\n",
    "Reference: https://xgboost.readthedocs.io/en/latest/python/index.html"
   ]
  },
  {
   "cell_type": "code",
   "execution_count": 22,
   "metadata": {},
   "outputs": [],
   "source": [
    "# Data Input if any\n",
    "X_train = train_feature.copy() # trainig feature, as a pandas dataframe\n",
    "X_test = test_feature.copy() # test feature, as a pandas dataframe\n",
    "\n",
    "y_train = train_label.copy().values # training label, as a numpy array\n",
    "y_test = test_label.copy().values # test label, as a numpy array"
   ]
  },
  {
   "cell_type": "markdown",
   "metadata": {},
   "source": [
    "## Question 1.Use `reg:linear` for `objective` and `rmse` for `eval_metric`. (10 points)\n",
    "Try different combinations of the hyper-parameters to get a lower RMSE. (5 points)"
   ]
  },
  {
   "cell_type": "code",
   "execution_count": 23,
   "metadata": {},
   "outputs": [],
   "source": [
    "# Model and Parameter Setting \n",
    "# Use xgb.XGBRegressor\n",
    "# Use parameters below first and you can adjust it later.\n",
    "your_model = xgb.XGBRegressor(max_depth = 6, \n",
    "                       eta = 0.1, \n",
    "                       gamma = 0.1,\n",
    "                       subsample = 0.8,\n",
    "                       colsample_bytree = 0.8,\n",
    "                       alpha = 0.5,\n",
    "                       objective = \"reg:linear\",\n",
    "                       eval_metric = \"rmse\")"
   ]
  },
  {
   "cell_type": "code",
   "execution_count": 24,
   "metadata": {},
   "outputs": [
    {
     "name": "stdout",
     "output_type": "stream",
     "text": [
      "[20:53:35] WARNING: c:\\ci\\xgboost-split_1619728435298\\work\\src\\objective\\regression_obj.cu:170: reg:linear is now deprecated in favor of reg:squarederror.\n"
     ]
    }
   ],
   "source": [
    "# Fit the model by your_model.fit(X_train, y_train)\n",
    "result = your_model.fit(X_train, y_train)"
   ]
  },
  {
   "cell_type": "code",
   "execution_count": 25,
   "metadata": {},
   "outputs": [
    {
     "data": {
      "text/plain": [
       "<AxesSubplot:title={'center':'Feature importance'}, xlabel='F score', ylabel='Features'>"
      ]
     },
     "execution_count": 25,
     "metadata": {},
     "output_type": "execute_result"
    },
    {
     "data": {
      "image/png": "[encoded data removed]",
      "text/plain": [
       "<Figure size 432x288 with 1 Axes>"
      ]
     },
     "metadata": {
      "needs_background": "light"
     },
     "output_type": "display_data"
    }
   ],
   "source": [
    "# Show the feature importance plot. Use plot_importance(your_model, importance_type = 'gain')\n",
    "# If you don't see your plot, please run this cell again.\n",
    "plot_importance(result, importance_type='gain')"
   ]
  },
  {
   "cell_type": "markdown",
   "metadata": {},
   "source": [
    "Please interpret the importance value of the most important variable. (5 points)"
   ]
  },
  {
   "cell_type": "markdown",
   "metadata": {},
   "source": [
    "According to the documentation provided above, <code>Gain</code> is the improvement in accuracy brought by a feature to the branches it is on. The idea is that before adding a new split on a feature X to the branch there was some wrongly classified elements, after adding the split on this feature, there are two new branches, and each of these branch is more accurate (one branch saying if your observation is on this branch then it should be classified as 1, and the other branch saying the exact opposite)."
   ]
  },
  {
   "cell_type": "markdown",
   "metadata": {},
   "source": [
    "Answer: URLDensity with an importance value of 1330.08 is the most important factor when predicting the position of the webpage in the query results. As the feature importance is calculated relative to the other features, this means URL density  provides a $(1330.08 - 1140.96)/1140.96 = 16.58\\%$ larger improvement in predicting power compared to inbound links."
   ]
  },
  {
   "cell_type": "code",
   "execution_count": 26,
   "metadata": {},
   "outputs": [],
   "source": [
    "# Make prediction: y_pred should be the output of your prediction, it cotains value\n",
    "# from 3 to 100 (may not be integers)\n",
    "y_pred = result.predict(X_test)"
   ]
  },
  {
   "cell_type": "code",
   "execution_count": 27,
   "metadata": {
    "scrolled": true
   },
   "outputs": [
    {
     "name": "stdout",
     "output_type": "stream",
     "text": [
      "27.171698109163444\n"
     ]
    }
   ],
   "source": [
    "# Print RMSE, y_test is a numpy array from test_label, y_pred is a numpy array from your model prediction\n",
    "old_rmse = metrics.mean_squared_error(y_test, y_pred, squared=False)\n",
    "print(old_rmse)"
   ]
  },
  {
   "cell_type": "markdown",
   "metadata": {},
   "source": [
    "Trying different combinations of the hyper-parameters to get a lower RMSE."
   ]
  },
  {
   "cell_type": "code",
   "execution_count": 28,
   "metadata": {},
   "outputs": [
    {
     "name": "stdout",
     "output_type": "stream",
     "text": [
      "[20:53:36] WARNING: c:\\ci\\xgboost-split_1619728435298\\work\\src\\objective\\regression_obj.cu:170: reg:linear is now deprecated in favor of reg:squarederror.\n",
      "Old RMSE: 27.171698109163444\n",
      "New RMSE: 26.347989198299977\n"
     ]
    }
   ],
   "source": [
    "# Data Input if any\n",
    "X_train = train_feature.copy() # trainig feature, as a pandas dataframe\n",
    "X_test = test_feature.copy() # test feature, as a pandas dataframe\n",
    "\n",
    "y_train = train_label.copy().values # training label, as a numpy array\n",
    "y_test = test_label.copy().values # test label, as a numpy array\n",
    "\n",
    "# Model and Parameter Setting \n",
    "# Use xgb.XGBRegressor\n",
    "# Use parameters below first and you can adjust it later.\n",
    "your_model = xgb.XGBRegressor(max_depth = 4,\n",
    "                       eta = 0.1, \n",
    "                       gamma = 0.1,\n",
    "                       subsample = 0.8,\n",
    "                       colsample_bytree = 0.8,\n",
    "                       alpha = 0.5,\n",
    "                       objective = \"reg:linear\",\n",
    "                       eval_metric = \"rmse\")\n",
    "\n",
    "# Fit the model by your_model.fit(X_train, y_train)\n",
    "result = your_model.fit(X_train, y_train)\n",
    "\n",
    "# Make prediction: y_pred should be the output of your prediction, it cotains value\n",
    "# from 3 to 100 (may not be integers)\n",
    "y_pred = result.predict(X_test)\n",
    "\n",
    "# Print RMSE, y_test is a numpy array from test_label, y_pred is a numpy array from your model prediction\n",
    "new_rmse = metrics.mean_squared_error(y_test, y_pred, squared=False)\n",
    "print('Old RMSE: {}\\nNew RMSE: {}'.format(old_rmse, new_rmse))"
   ]
  },
  {
   "cell_type": "markdown",
   "metadata": {},
   "source": [
    "## Question 2. Redo Question 1 by using `rank:pairwise` for `objective` and `rmse` for `eval_metric`. (15 points)\n",
    "Note that Question 1 did not utilize the query information. However, in the dataset, we know that each query corresponds to 98 data points. Now we will utilize this information by setting group information for both training and testing data. (5 points)\n",
    "\n",
    "Try different combinations of the hyper-parameters to get a lower RMSE. (5 points)"
   ]
  },
  {
   "cell_type": "code",
   "execution_count": 29,
   "metadata": {},
   "outputs": [],
   "source": [
    "# Data Input if any\n",
    "X_train = train_feature.copy() # trainig feature, as a pandas dataframe\n",
    "X_test = test_feature.copy() # test feature, as a pandas dataframe\n",
    "\n",
    "y_train = train_label.copy().values # training label, as a numpy array\n",
    "y_test = test_label.copy().values # test label, as a numpy array"
   ]
  },
  {
   "cell_type": "code",
   "execution_count": 30,
   "metadata": {},
   "outputs": [],
   "source": [
    "# Model and Parameter Setting \n",
    "# Use xgb.XGBRanker\n",
    "# Use parameters below first and you can adjust it later.\n",
    "your_model = xgb.XGBRanker(max_depth = 6, \n",
    "                           eta = 0.1, \n",
    "                           gamma = 0.1,\n",
    "                           subsample = 0.8,\n",
    "                           colsample_bytree = 0.8,\n",
    "                           alpha = 0.5,\n",
    "                           objective = \"rank:pairwise\",\n",
    "                           eval_metric = \"rmse\")\n",
    "\n",
    "\n",
    "# Fit the model by your_model.fit(X_train, y_train, group = np.full(14,98))\n",
    "result = your_model.fit(X_train, y_train, group = np.full(14,98))"
   ]
  },
  {
   "cell_type": "code",
   "execution_count": 31,
   "metadata": {},
   "outputs": [
    {
     "data": {
      "text/plain": [
       "<AxesSubplot:title={'center':'Feature importance'}, xlabel='F score', ylabel='Features'>"
      ]
     },
     "execution_count": 31,
     "metadata": {},
     "output_type": "execute_result"
    },
    {
     "data": {
      "image/png": "[encoded data removed]",
      "text/plain": [
       "<Figure size 432x288 with 1 Axes>"
      ]
     },
     "metadata": {
      "needs_background": "light"
     },
     "output_type": "display_data"
    }
   ],
   "source": [
    "# Show the feature importance plot. Use plot_importance(your_model, importance_type = 'gain')\n",
    "plot_importance(your_model, importance_type = 'gain')"
   ]
  },
  {
   "cell_type": "markdown",
   "metadata": {},
   "source": [
    "Please interpret the importance value of the most important variable. (5 points)"
   ]
  },
  {
   "cell_type": "markdown",
   "metadata": {},
   "source": [
    "Answer: URL density is the most important feature when predicting which page within a pair of pages would have a higher rank. It is $(2.13-1.89)/1.89 = 12.70\\%$ more effective in predicting the order of a pair of pages compared to title flag."
   ]
  },
  {
   "cell_type": "markdown",
   "metadata": {},
   "source": [
    "Hint for next step:\n",
    "\n",
    "Note that here y_pred is NOT a direct rank. You need to figure out how to get rank from y_pred. Test data can be divided into 6 groups, you need to perform the following operations for each group. For each group, get y_pred from your model. The values in y_pred indicate a relative score for rank. The higher the score, the better the page rank. For all 98 pages in one group, the page with the highest score should rank as 100, and the page with the lowest score should rank as 3. Repeat this for all groups. You are required to implement this by some simple codes. **y_pred_rank** is the actually predicted ranks you transformed from **y_pred**."
   ]
  },
  {
   "cell_type": "code",
   "execution_count": 32,
   "metadata": {},
   "outputs": [],
   "source": [
    "import scipy.stats as ss"
   ]
  },
  {
   "cell_type": "code",
   "execution_count": 33,
   "metadata": {},
   "outputs": [],
   "source": [
    "# Make prediction: y_pred is the predicted output from your model, y_pred_rank is the actual rank you get\n",
    "y_pred = result.predict(X_test)\n",
    "pred = []\n",
    "\n",
    "for i in range(0, len(y_pred), 98):\n",
    "    rank = ss.rankdata(y_pred[i:i+98]) + 2\n",
    "    pred.append(rank)\n",
    "    \n",
    "y_pred_rank = np.array(pred).flatten()"
   ]
  },
  {
   "cell_type": "code",
   "execution_count": 34,
   "metadata": {},
   "outputs": [
    {
     "name": "stdout",
     "output_type": "stream",
     "text": [
      "31.815796359028695\n"
     ]
    }
   ],
   "source": [
    "# Print RMSE, y_test is a numpy array from test_label, y_pred_rank is a numpy array from your model prediction\n",
    "old_rmse = metrics.mean_squared_error(y_test, y_pred_rank, squared=False)\n",
    "print(old_rmse)"
   ]
  },
  {
   "cell_type": "markdown",
   "metadata": {},
   "source": [
    "Trying different combinations of the hyper-parameters to get a lower RMSE."
   ]
  },
  {
   "cell_type": "code",
   "execution_count": 35,
   "metadata": {},
   "outputs": [
    {
     "name": "stdout",
     "output_type": "stream",
     "text": [
      "Old RMSE: 31.815796359028695\n",
      "New RMSE: 30.69240638209734\n"
     ]
    }
   ],
   "source": [
    "# Data Input if any\n",
    "X_train = train_feature.copy() # trainig feature, as a pandas dataframe\n",
    "X_test = test_feature.copy() # test feature, as a pandas dataframe\n",
    "\n",
    "y_train = train_label.copy().values # training label, as a numpy array\n",
    "y_test = test_label.copy().values # test label, as a numpy array\n",
    "\n",
    "# Model and Parameter Setting \n",
    "# Use xgb.XGBRanker\n",
    "# Use parameters below first and you can adjust it later.\n",
    "your_model = xgb.XGBRanker(max_depth = 4, \n",
    "                           eta = 0.1, \n",
    "                           gamma = 0.1,\n",
    "                           subsample = 0.8,\n",
    "                           colsample_bytree = 0.8,\n",
    "                           alpha = 0.5,\n",
    "                           objective = \"rank:pairwise\",\n",
    "                           eval_metric = \"rmse\")\n",
    "\n",
    "\n",
    "# Fit the model by your_model.fit(X_train, y_train, group = np.full(14,98))\n",
    "result = your_model.fit(X_train, y_train, group = np.full(14,98))\n",
    "\n",
    "# Make prediction: y_pred is the predicted output from your model, y_pred_rank is the actual rank you get\n",
    "y_pred = result.predict(X_test)\n",
    "pred = []\n",
    "\n",
    "for i in range(0, len(y_pred), 98):\n",
    "    rank = ss.rankdata(y_pred[i:i+98]) + 2\n",
    "    pred.append(rank)\n",
    "    \n",
    "y_pred_rank = np.array(pred).flatten()\n",
    "\n",
    "# Print RMSE, y_test is a numpy array from test_label, y_pred_rank is a numpy array from your model prediction\n",
    "new_rmse = metrics.mean_squared_error(y_test, y_pred_rank, squared=False)\n",
    "print('Old RMSE: {}\\nNew RMSE: {}'.format(old_rmse, new_rmse))"
   ]
  },
  {
   "cell_type": "markdown",
   "metadata": {},
   "source": [
    "## Question 3.Use `rank:ndcg` for `objective` and `rmse` for `eval_metric`. Redo Question 2. (10 points)"
   ]
  },
  {
   "cell_type": "markdown",
   "metadata": {},
   "source": [
    "Try different combinations of the hyper-parameters to get a lower RMSE. (5 points)"
   ]
  },
  {
   "cell_type": "code",
   "execution_count": 36,
   "metadata": {},
   "outputs": [],
   "source": [
    "# Data Input if any\n",
    "X_train = train_feature.copy() # trainig feature, as a pandas dataframe\n",
    "X_test = test_feature.copy() # test feature, as a pandas dataframe\n",
    "\n",
    "y_train = train_label.copy().values # training label, as a numpy array\n",
    "y_test = test_label.copy().values # test label, as a numpy array"
   ]
  },
  {
   "cell_type": "code",
   "execution_count": 37,
   "metadata": {},
   "outputs": [],
   "source": [
    "# Model and Parameter Setting \n",
    "# Use xgb.XGBRanker\n",
    "# Use parameters below first and you can adjust it later.\n",
    "your_model = xgb.XGBRanker(max_depth = 6, \n",
    "                           eta = 0.1, \n",
    "                           gamma = 0.1,\n",
    "                           subsample = 0.8,\n",
    "                           colsample_bytree = 0.8,\n",
    "                           alpha = 0.5,\n",
    "                           objective = \"rank:ndcg\",\n",
    "                           eval_metric = \"rmse\")\n",
    "\n",
    "\n",
    "# Fit the model by your_model.fit(X_train, y_train, group = np.full(14,98))\n",
    "result = your_model.fit(X_train, y_train, group = np.full(14,98))"
   ]
  },
  {
   "cell_type": "code",
   "execution_count": 38,
   "metadata": {},
   "outputs": [
    {
     "data": {
      "text/plain": [
       "<AxesSubplot:title={'center':'Feature importance'}, xlabel='F score', ylabel='Features'>"
      ]
     },
     "execution_count": 38,
     "metadata": {},
     "output_type": "execute_result"
    },
    {
     "data": {
      "image/png": "[encoded data removed]",
      "text/plain": [
       "<Figure size 432x288 with 1 Axes>"
      ]
     },
     "metadata": {
      "needs_background": "light"
     },
     "output_type": "display_data"
    }
   ],
   "source": [
    "# Show the feature importance plot. Use plot_importance(your_model, importance_type = 'gain')\n",
    "plot_importance(your_model, importance_type = 'gain')"
   ]
  },
  {
   "cell_type": "markdown",
   "metadata": {},
   "source": [
    "Please interpret the importance value of the most important variable. (5 points)"
   ]
  },
  {
   "cell_type": "markdown",
   "metadata": {},
   "source": [
    "Answer: Based on the position of the respective webpages in each query in the training set, the model identified that URL density is likely to be the most significant feature used in the search engine so as to achieve the observed results in the training set."
   ]
  },
  {
   "cell_type": "code",
   "execution_count": 39,
   "metadata": {},
   "outputs": [],
   "source": [
    "# Make prediction: y_pred is the predicted output from your model, y_pred_rank is the actual rank you get.\n",
    "# Follow the Hint in P3-Q2\n",
    "y_pred = result.predict(X_test)\n",
    "pred = []\n",
    "\n",
    "for i in range(0, len(y_pred), 98):\n",
    "    rank = ss.rankdata(y_pred[i:i+98]) + 2\n",
    "    pred.append(rank)\n",
    "    \n",
    "y_pred_rank = np.array(pred).flatten()"
   ]
  },
  {
   "cell_type": "code",
   "execution_count": 40,
   "metadata": {},
   "outputs": [
    {
     "name": "stdout",
     "output_type": "stream",
     "text": [
      "32.912388854898616\n"
     ]
    }
   ],
   "source": [
    "# Print RMSE, y_test is a numpy array from test_label, y_pred_rank is a numpy array from your model prediction\n",
    "old_rmse = metrics.mean_squared_error(y_test, y_pred_rank, squared=False)\n",
    "print(old_rmse)"
   ]
  },
  {
   "cell_type": "markdown",
   "metadata": {},
   "source": [
    "Tryingdifferent combinations of the hyper-parameters to get a lower RMSE."
   ]
  },
  {
   "cell_type": "code",
   "execution_count": 41,
   "metadata": {},
   "outputs": [
    {
     "name": "stdout",
     "output_type": "stream",
     "text": [
      "Old RMSE: 32.912388854898616\n",
      "New RMSE: 31.355949646459322\n"
     ]
    }
   ],
   "source": [
    "# Data Input if any\n",
    "X_train = train_feature.copy() # trainig feature, as a pandas dataframe\n",
    "X_test = test_feature.copy() # test feature, as a pandas dataframe\n",
    "\n",
    "y_train = train_label.copy().values # training label, as a numpy array\n",
    "y_test = test_label.copy().values # test label, as a numpy array\n",
    "\n",
    "# Model and Parameter Setting \n",
    "# Use xgb.XGBRanker\n",
    "# Use parameters below first and you can adjust it later.\n",
    "your_model = xgb.XGBRanker(max_depth = 4, \n",
    "                           eta = 0.1, \n",
    "                           gamma = 0.5,\n",
    "                           subsample = 0.8,\n",
    "                           colsample_bytree = 0.8,\n",
    "                           alpha = 0.5,\n",
    "                           objective = \"rank:ndcg\",\n",
    "                           eval_metric = \"rmse\")\n",
    "\n",
    "\n",
    "# Fit the model by your_model.fit(X_train, y_train, group = np.full(14,98))\n",
    "result = your_model.fit(X_train, y_train, group = np.full(14,98))\n",
    "\n",
    "# Make prediction: y_pred is the predicted output from your model, y_pred_rank is the actual rank you get.\n",
    "# Follow the Hint in P3-Q2\n",
    "y_pred = result.predict(X_test)\n",
    "pred = []\n",
    "\n",
    "for i in range(0, len(y_pred), 98):\n",
    "    rank = ss.rankdata(y_pred[i:i+98]) + 2\n",
    "    pred.append(rank)\n",
    "    \n",
    "y_pred_rank = np.array(pred).flatten()\n",
    "\n",
    "# Print RMSE, y_test is a numpy array from test_label, y_pred_rank is a numpy array from your model prediction\n",
    "new_rmse = metrics.mean_squared_error(y_test, y_pred_rank, squared=False)\n",
    "print('Old RMSE: {}\\nNew RMSE: {}'.format(old_rmse, new_rmse))"
   ]
  },
  {
   "cell_type": "markdown",
   "metadata": {},
   "source": [
    "# Problem 4. Results Interpretation (Q&A) (15 points)"
   ]
  },
  {
   "cell_type": "markdown",
   "metadata": {},
   "source": [
    "<u> Please record the RMSE value of all questions above in the table below. </u> (5 points) Note that you do not need to write codes for this problem. You just need to copy the RMSE for all questions and paste them into the table.\n",
    "\n",
    "**Please round your RMSE to 4 decimal places.**\n",
    "\n",
    "To access the table (which is written by Markdown), you just need to double click the example table, edit the corresponding value and run this cell. It will generate the table accordingly.\n"
   ]
  },
  {
   "cell_type": "markdown",
   "metadata": {},
   "source": [
    "| Question | P1 | P2 | P3-Q1 | P3-Q2 | P3-Q3 |\n",
    "| --- | --- | --- | --- | --- | --- |\n",
    "| RMSE | 37.1507 | 37.6191 | 27.1717 | 31.8158 | 32.9124 |\n",
    "| Modified | - | - | 26.3480 | 30.6924 | 31.3559"
   ]
  },
  {
   "cell_type": "markdown",
   "metadata": {},
   "source": [
    "Please describe what you observe from the RMSE value for all questions in detail. If you have tuned any hyper-parameters in Problem 3, please explain in detail here. (5 points) Explain the reasons behind your observations. (5 points)"
   ]
  },
  {
   "cell_type": "markdown",
   "metadata": {},
   "source": [
    "Answer: The RMSE of the various models are roughly the same (within the 30-40 range) with XGBoost performing the best with the lowest RMSE value of 26.3479.\n",
    "\n",
    "For the changes in hyper-parameters in Problem 3, I just lowered the depth of the trees from 6 to 4. Reading the documentation, this seems to have made the model less likely to overfit the training dataset which would explain the slight improvement in the out-of-sample error.\n",
    "\n",
    "This observation is likely due to the common tradeoffs of various machine learning models (predictive power vs explainability). Simple models like the OLS linear regression model are easy to interpret and quantify the estimated impact of each feature on the dependent variable but in reality there are rarely any relationship which are perfectly linear and thus they may not perform extremely well when predicting.\n",
    "\n",
    "On the other hand, models like XGBoost iare very complicated and have good predictive power. However, the downside is that the results of the models are harder to interpret and explain to others. Models like neural networks are often seen as a black box where we do not know what is going on inside."
   ]
  },
  {
   "cell_type": "markdown",
   "metadata": {},
   "source": [
    "# Appendix\n",
    "\n",
    "1. ID: identification number (i.e., row number in the dataset)\n",
    "\n",
    "2. Position: the actual google ranking of the webpage to the query\n",
    "\n",
    "3. ReverseRank: equals $101$ minus Position. It is equivalent to the position. Sometimes using ReverseRank as the dependent variable can have a better prediction.\n",
    "\n",
    "4. Title: the title of the webpage\n",
    "\n",
    "5. URL: the URL of the webpage\n",
    "\n",
    "6. Meta: the meta description of the webpage\n",
    "\n",
    "7.\tTitleFlag: indicates that whether the whole keyword is included in the page title. TitleFlag equals 1 if yes, otherwise, 0.\n",
    "\n",
    "8.\tUrlFlag: indicates that whether the whole keyword is included in the page url. UrlFlag equals 1 if yes, otherwise, 0.\n",
    "\n",
    "9.\tMetaFlag: indicates that whether the whole keyword is included in the page meta description. MetaFlag equals 1 if yes, otherwise, 0.\n",
    "\n",
    "10.\tTitleDensity: is the percentage of times a keyword appears in the title of a web page compared to the total number of words in the title of a web page.\n",
    "\n",
    "11.\tUrlDensity: is the percentage of times a keyword appears in the URL of a web page compared to the total number of words in the URL of a web page.\n",
    "\n",
    "12.\tMetaDensity: is the percentage of times a keyword appears in the meta description of a web page compared to the total number of words in the meta description of a web page.\n",
    "\n",
    "13.\tPageAuthority: is a score developed by Moz that predicts how well a specific page will rank on search engine result pages (SERP). https://moz.com/learn/seo/page-authority\n",
    "\n",
    "14.\tDomainAuthority: is a search engine ranking score developed by Moz that predicts how well a website will rank on search engine result pages (SERPs). https://moz.com/learn/seo/domain-authority\n",
    "\n",
    "15.\tLinkingDomain: is the number of unique external domains linking to this page. Two or more links from the same websites are considered as one linking domain. Provided by Moz.\n",
    "\n",
    "16.\tInboundLink: is the number of unique external pages linking to this page. Two or more links from the same page on a website are considered as one inbound link. Provided by Moz.\n",
    "\n",
    "17.\tRankingKeyword: is the number of keywords for which this site ranks within the top 50 positions on Google US. Provided by Moz."
   ]
  }
 ],
 "metadata": {
  "kernelspec": {
   "display_name": "Python 3 (ipykernel)",
   "language": "python",
   "name": "python3"
  },
  "language_info": {
   "codemirror_mode": {
    "name": "ipython",
    "version": 3
   },
   "file_extension": ".py",
   "mimetype": "text/x-python",
   "name": "python",
   "nbconvert_exporter": "python",
   "pygments_lexer": "ipython3",
   "version": "3.8.12"
  },
  "toc": {
   "base_numbering": 1,
   "nav_menu": {},
   "number_sections": true,
   "sideBar": true,
   "skip_h1_title": false,
   "title_cell": "Table of Contents",
   "title_sidebar": "Contents",
   "toc_cell": false,
   "toc_position": {
    "height": "calc(100% - 180px)",
    "left": "10px",
    "top": "150px",
    "width": "238px"
   },
   "toc_section_display": true,
   "toc_window_display": true
  }
 },
 "nbformat": 4,
 "nbformat_minor": 2
}
