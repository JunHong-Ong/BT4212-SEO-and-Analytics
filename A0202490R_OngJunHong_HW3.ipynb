{
 "cells": [
  {
   "cell_type": "markdown",
   "metadata": {},
   "source": [
    "> ## Homework 3 - PageRank \n",
    ">\n",
    "> ## Due Date: Oct. 29 (Friday), 23:00 SG Time\n",
    "> ## Deliverables\n",
    "> Save your notebook `ipynb` file as `StudentID_YourName_HW3.ipynb`, generate an `html` file from `ipynb` file and save as `StudentID_YourName_HW3.html`. Zip your notebook file, html file, and all your user-defined python files into a single `zip` file. \n",
    ">\n",
    "> **Upload the `zip` file as `StudentID_YourName_HW3.zip`.** Please DO NOT include data file (Graph2021.txt) in your zip file.\n",
    ">\n",
    "> **Please make sure your code is executable.**\n",
    ">\n",
    "> ### HW3 has 90 points in total, which worths 9 points in the final assessment."
   ]
  },
  {
   "cell_type": "code",
   "execution_count": 1,
   "metadata": {},
   "outputs": [],
   "source": [
    "# Input your name and studentID\n",
    "name = \"Ong Jun Hong\"\n",
    "stuID = \"A0202490R\""
   ]
  },
  {
   "cell_type": "code",
   "execution_count": 2,
   "metadata": {},
   "outputs": [],
   "source": [
    "# Import libraries\n",
    "import numpy as np\n",
    "from scipy import sparse\n",
    "import pandas as pd\n",
    "\n",
    "beta = 0.87 # used in computing the PageRank"
   ]
  },
  {
   "cell_type": "code",
   "execution_count": 3,
   "metadata": {},
   "outputs": [],
   "source": [
    "# load the Graph2021.txt and store it in variable \"M\"   (the loading can take you some time)\n",
    "M = pd.read_csv('./Graph2021.txt', header=None)\n",
    "\n",
    "# Converting M to a matrix\n",
    "M = np.array(M)"
   ]
  },
  {
   "cell_type": "code",
   "execution_count": 4,
   "metadata": {},
   "outputs": [
    {
     "name": "stdout",
     "output_type": "stream",
     "text": [
      "Matrix M has 10001 rows and 10001 columns.\n"
     ]
    }
   ],
   "source": [
    "# Output the number of rows and colums of data\n",
    "rows, cols = M.shape\n",
    "print('Matrix M has {} rows and {} columns.'.format(rows, cols))"
   ]
  },
  {
   "cell_type": "markdown",
   "metadata": {},
   "source": [
    "<div class=\"alert alert-warning\">\n",
    "<b>M is a square matrix contains only 0 and 1. $M_{ij}=1$ if and only if webpage j links to webpage i. The number of rows (or columns) of the matrix is the number of webpages in the network. You may want to store that number in a variable<b>\n",
    "</div>"
   ]
  },
  {
   "cell_type": "markdown",
   "metadata": {},
   "source": [
    "#### Each column of matrix M corresponds to one webpage in the network. For each column, divide each entry by the total number of outbound links of that webpage. Store the resulting matrix in \"M2\". Note that the graph may contain dead-end node. We will deal with this issue later."
   ]
  },
  {
   "cell_type": "code",
   "execution_count": 5,
   "metadata": {
    "scrolled": false
   },
   "outputs": [
    {
     "name": "stderr",
     "output_type": "stream",
     "text": [
      "<ipython-input-5-4015be473d5e>:4: RuntimeWarning: invalid value encountered in true_divide\n",
      "  M2 = np.divide(M, num_outbound)\n"
     ]
    },
    {
     "name": "stdout",
     "output_type": "stream",
     "text": [
      "Are there NaNs? True\n",
      "Are there NaNs? False\n",
      "[[0. 0. 0. ... 0. 0. 0.]\n",
      " [0. 0. 0. ... 0. 0. 0.]\n",
      " [0. 0. 0. ... 0. 0. 0.]\n",
      " ...\n",
      " [0. 0. 0. ... 0. 0. 0.]\n",
      " [0. 0. 0. ... 0. 0. 0.]\n",
      " [0. 0. 0. ... 0. 0. 0.]]\n"
     ]
    }
   ],
   "source": [
    "# Check if there are any NaN in your matrix after the operation\n",
    "# You can use np.isnan(your_matrix).any() to check. If there are NaNs, then you need to figure out why and fix it\n",
    "num_outbound = M.sum(axis=0)\n",
    "M2 = np.divide(M, num_outbound)\n",
    "\n",
    "# Warning is generated as NaNs are introduced due to division by 0 (Dead-end nodes with outbound links).\n",
    "print('Are there NaNs? {}'.format(np.isnan(M2).any()))\n",
    "      \n",
    "M2 = np.nan_to_num(M2, nan=0)\n",
    "\n",
    "print('Are there NaNs? {}'.format(np.isnan(M2).any()))\n",
    "print(M2)"
   ]
  },
  {
   "cell_type": "markdown",
   "metadata": {},
   "source": [
    "<div class=\"alert alert-info\">\n",
    "<b>Question 1 (20 points): Pre-process the matrix M2 to handle the \"dead-end nodes\". Store the new matrix as \"H\"</b> \n",
    "</div>"
   ]
  },
  {
   "cell_type": "code",
   "execution_count": 6,
   "metadata": {
    "scrolled": true
   },
   "outputs": [
    {
     "name": "stdout",
     "output_type": "stream",
     "text": [
      "[[0. 0. 0. ... 0. 0. 0.]\n",
      " [0. 0. 0. ... 0. 0. 0.]\n",
      " [0. 0. 0. ... 0. 0. 0.]\n",
      " ...\n",
      " [0. 0. 0. ... 0. 0. 0.]\n",
      " [0. 0. 0. ... 0. 0. 0.]\n",
      " [0. 0. 0. ... 0. 0. 0.]]\n"
     ]
    },
    {
     "data": {
      "text/plain": [
       "False"
      ]
     },
     "execution_count": 6,
     "metadata": {},
     "output_type": "execute_result"
    }
   ],
   "source": [
    "# H = M + 1/N * e * a^T\n",
    "# Initialize vector e with length (N = cols) with all entries = 1.\n",
    "e = np.ones(rows).reshape(-1, 1)\n",
    "\n",
    "# Initialize vector a with entries = 1 if node is a \"dead-end\" node or 0 otherwise.\n",
    "a = np.zeros(cols)\n",
    "a[(num_outbound == 0)] = 1\n",
    "a.reshape(-1, 1)\n",
    "\n",
    "H = M2 + ((1/cols) * e * a.T)\n",
    "\n",
    "print(H)\n",
    "np.isnan(H).any()"
   ]
  },
  {
   "cell_type": "markdown",
   "metadata": {},
   "source": [
    "#### <u> Please output the 2726th entry of the 1st column of your matrix. </u> (5 points)"
   ]
  },
  {
   "cell_type": "code",
   "execution_count": 7,
   "metadata": {},
   "outputs": [
    {
     "data": {
      "text/plain": [
       "0.1"
      ]
     },
     "execution_count": 7,
     "metadata": {},
     "output_type": "execute_result"
    }
   ],
   "source": [
    "H[2725, 0]"
   ]
  },
  {
   "cell_type": "markdown",
   "metadata": {},
   "source": [
    "#### <u> Please output the 1st entry of the 5th column of your matrix. </u> (5 points)"
   ]
  },
  {
   "cell_type": "code",
   "execution_count": 8,
   "metadata": {},
   "outputs": [
    {
     "data": {
      "text/plain": [
       "9.999000099990002e-05"
      ]
     },
     "execution_count": 8,
     "metadata": {},
     "output_type": "execute_result"
    }
   ],
   "source": [
    "H[0, 4]"
   ]
  },
  {
   "cell_type": "code",
   "execution_count": 9,
   "metadata": {},
   "outputs": [
    {
     "name": "stdout",
     "output_type": "stream",
     "text": [
      "[[1.29987001e-05 1.29987001e-05 1.29987001e-05 ... 1.29987001e-05\n",
      "  1.29987001e-05 1.29987001e-05]\n",
      " [1.29987001e-05 1.29987001e-05 1.29987001e-05 ... 1.29987001e-05\n",
      "  1.29987001e-05 1.29987001e-05]\n",
      " [1.29987001e-05 1.29987001e-05 1.29987001e-05 ... 1.29987001e-05\n",
      "  1.29987001e-05 1.29987001e-05]\n",
      " ...\n",
      " [1.29987001e-05 1.29987001e-05 1.29987001e-05 ... 1.29987001e-05\n",
      "  1.29987001e-05 1.29987001e-05]\n",
      " [1.29987001e-05 1.29987001e-05 1.29987001e-05 ... 1.29987001e-05\n",
      "  1.29987001e-05 1.29987001e-05]\n",
      " [1.29987001e-05 1.29987001e-05 1.29987001e-05 ... 1.29987001e-05\n",
      "  1.29987001e-05 1.29987001e-05]]\n"
     ]
    }
   ],
   "source": [
    "# Generate matrix G using beta = 0.87. \n",
    "G = (beta * H) + ((1 - beta) * (1/rows) * e * e.T)\n",
    "\n",
    "print(G)"
   ]
  },
  {
   "cell_type": "code",
   "execution_count": 10,
   "metadata": {},
   "outputs": [
    {
     "name": "stdout",
     "output_type": "stream",
     "text": [
      "[[9.9990001e-05]\n",
      " [9.9990001e-05]\n",
      " [9.9990001e-05]\n",
      " ...\n",
      " [9.9990001e-05]\n",
      " [9.9990001e-05]\n",
      " [9.9990001e-05]]\n"
     ]
    }
   ],
   "source": [
    "# initialize the PageRank vector to be 1/N for all entries, where N is the total number of webpage in the graph\n",
    "PageRank = ((1/rows) * np.ones(rows)).reshape(-1, 1)\n",
    "\n",
    "print(PageRank)"
   ]
  },
  {
   "cell_type": "markdown",
   "metadata": {},
   "source": [
    "#### Raise matrix G to the 10th power and then multiply it by the initial PageRank vector. (10 points)  <u>Print the resulting PageRank vector and the runtime.</u>  (Hint: use the command %%time in the cell).\n",
    "\n",
    "(You need to google how to raise a matrix to nth power and do matrix-vector multiplication). Check the run time of this computation.\n",
    "\n",
    "This is supposed to run for some time so that in the subsequent questions, you will see the improvement due to other methods we mentioned in the lecture. <u> You are required to record the runtime of all six questions at the end of this homework. </u>"
   ]
  },
  {
   "cell_type": "code",
   "execution_count": 11,
   "metadata": {},
   "outputs": [
    {
     "name": "stdout",
     "output_type": "stream",
     "text": [
      "[[1.36319052e-04]\n",
      " [9.64711622e-05]\n",
      " [6.72644519e-05]\n",
      " ...\n",
      " [7.32876610e-05]\n",
      " [9.73028219e-05]\n",
      " [6.13970209e-05]]\n",
      "Wall time: 50 s\n"
     ]
    }
   ],
   "source": [
    "%%time\n",
    "\n",
    "# initialize the PageRank vector to be 1/N for all entries, where N is the total number of webpage in the graph\n",
    "PageRank = np.matmul(np.linalg.matrix_power(G, 10), PageRank)\n",
    "\n",
    "print(PageRank)"
   ]
  },
  {
   "cell_type": "markdown",
   "metadata": {},
   "source": [
    "<div class=\"alert alert-info\">\n",
    "<b>Question 2 (10 points): Use \"sparse.csr_matrix()\" to transform your matrix H to a sparse matrix. Store the new matrix as \"HS\"</b> \n",
    "</div>"
   ]
  },
  {
   "cell_type": "code",
   "execution_count": 12,
   "metadata": {},
   "outputs": [],
   "source": [
    "HS = sparse.csr_matrix(H)"
   ]
  },
  {
   "cell_type": "markdown",
   "metadata": {},
   "source": [
    "#### Implement power iteration method for 10 iterations using the sparse matrix HS only. Initialize the PageRank vector to be 1/N for all entries, where N is the total number of webpage in the graph. <u>Print the PageRank vector after 10 iterations and the runtime.</u> (5 points)\n"
   ]
  },
  {
   "cell_type": "code",
   "execution_count": 13,
   "metadata": {},
   "outputs": [
    {
     "name": "stdout",
     "output_type": "stream",
     "text": [
      "Running iteration 1...\n",
      "Running iteration 2...\n",
      "Running iteration 3...\n",
      "Running iteration 4...\n",
      "Running iteration 5...\n",
      "Running iteration 6...\n",
      "Running iteration 7...\n",
      "Running iteration 8...\n",
      "Running iteration 9...\n",
      "Running iteration 10...\n",
      "Reached maximum iterations.\n",
      "\n",
      "\n",
      "Final PageRank vector:\n",
      "[[1.36319052e-04]\n",
      " [9.64711622e-05]\n",
      " [6.72644519e-05]\n",
      " ...\n",
      " [7.32876610e-05]\n",
      " [9.73028219e-05]\n",
      " [6.13970209e-05]]\n",
      "Wall time: 119 ms\n"
     ]
    }
   ],
   "source": [
    "%%time\n",
    "\n",
    "# Implementing power iteration method shown in slide 50 of Lecture 8.\n",
    "\n",
    "# initialize the PageRank vector to be 1/N for all entries, where N is the total number of webpage in the graph\n",
    "PageRank = ((1/rows) * np.ones(rows)).reshape(-1, 1)\n",
    "\n",
    "# Setting max iterations\n",
    "T = 10\n",
    "t = 1\n",
    "\n",
    "# Initializing r0\n",
    "r = [e / rows]\n",
    "\n",
    "while True:\n",
    "    print('Running iteration {}...'.format(t))\n",
    "    \n",
    "    r_t = r[-1]\n",
    "    r_t1 = ((beta * HS) * r_t) + ((1 - beta) * r[0])\n",
    "    r.append(r_t1)\n",
    "    \n",
    "    # Stop condition\n",
    "    if t >= T:\n",
    "        print('Reached maximum iterations.\\n\\n')\n",
    "        PageRank = r[-1]\n",
    "        break\n",
    "\n",
    "    t += 1\n",
    "\n",
    "print('Final PageRank vector:')\n",
    "print(PageRank)"
   ]
  },
  {
   "cell_type": "markdown",
   "metadata": {},
   "source": [
    "#### Redo this problem but use the matrix H instead of HS, <u> print the PageRank vector after 10 iterations and the runtime.</u> (5 points). Both of these two methods should be much faster than raising the matrix to the 10th power.You should be able to notice the runtime difference\n"
   ]
  },
  {
   "cell_type": "code",
   "execution_count": 14,
   "metadata": {},
   "outputs": [
    {
     "name": "stdout",
     "output_type": "stream",
     "text": [
      "Running iteration 1...\n",
      "Running iteration 2...\n",
      "Running iteration 3...\n",
      "Running iteration 4...\n",
      "Running iteration 5...\n",
      "Running iteration 6...\n",
      "Running iteration 7...\n",
      "Running iteration 8...\n",
      "Running iteration 9...\n",
      "Running iteration 10...\n",
      "Reached maximum iterations.\n",
      "\n",
      "\n",
      "Final PageRank vector:\n",
      "[[1.36319052e-04]\n",
      " [9.64711622e-05]\n",
      " [6.72644519e-05]\n",
      " ...\n",
      " [7.32876610e-05]\n",
      " [9.73028219e-05]\n",
      " [6.13970209e-05]]\n",
      "Wall time: 3.13 s\n"
     ]
    }
   ],
   "source": [
    "%%time\n",
    "\n",
    "# Implementing power iteration method shown in slide 50 of Lecture 8.\n",
    "\n",
    "# initialize the PageRank vector to be 1/N for all entries, where N is the total number of webpage in the graph\n",
    "PageRank = ((1/rows) * np.ones(rows)).reshape(-1, 1)\n",
    "\n",
    "# Setting max iterations\n",
    "T = 10\n",
    "t = 1\n",
    "\n",
    "# Initializing r0\n",
    "r = [e / rows]\n",
    "\n",
    "while True:\n",
    "    print('Running iteration {}...'.format(t))\n",
    "    \n",
    "    r_t = r[-1]\n",
    "    r_t1 = (np.matmul((beta * H), r_t)) + ((1 - beta) * r[0])\n",
    "    r.append(r_t1)\n",
    "    \n",
    "    # Stop condition\n",
    "    if t >= T:\n",
    "        print('Reached maximum iterations.\\n\\n')\n",
    "        PageRank = r[-1]\n",
    "        break\n",
    "\n",
    "    t += 1\n",
    "\n",
    "print('Final PageRank vector:')\n",
    "print(PageRank)"
   ]
  },
  {
   "cell_type": "markdown",
   "metadata": {},
   "source": [
    "#### Numpy is a very efficient implementation of matrix operations, you should be able to see substantial improvement in computation time compared with Q1."
   ]
  },
  {
   "cell_type": "markdown",
   "metadata": {},
   "source": [
    "<div class=\"alert alert-info\">\n",
    "<b>Question 3 (10 points): Use \"sparse.csr_matrix()\" to transform your matrix M2 to a sparse matrix. Store the new matrix as \"MS\". Implement the algorithm in slide 5 of Lecture 9 for 10 iterations. Do not preprocess the matrix M2 to get rid of the dead-end node issue. In this problem, you will have to solve this dead-end node issue during the iterations. You can either use for loop to go through all the websites one by one, or use matrix-vector operations</b> \n",
    "</div>"
   ]
  },
  {
   "cell_type": "code",
   "execution_count": 15,
   "metadata": {},
   "outputs": [],
   "source": [
    "MS = sparse.csr_matrix(M2)"
   ]
  },
  {
   "cell_type": "markdown",
   "metadata": {},
   "source": [
    "#### Initialize the PageRank vector to be 1/N for all entries, where N is the total number of webpage in the graph. <u> Print the PageRank vector after 10 iterations and the runtime. </u>"
   ]
  },
  {
   "cell_type": "markdown",
   "metadata": {},
   "source": [
    "##### Matrix-Vector Multiplication Method"
   ]
  },
  {
   "cell_type": "code",
   "execution_count": 16,
   "metadata": {
    "scrolled": false
   },
   "outputs": [
    {
     "name": "stdout",
     "output_type": "stream",
     "text": [
      "Running iteration 1...\n",
      "Running iteration 2...\n",
      "Running iteration 3...\n",
      "Running iteration 4...\n",
      "Running iteration 5...\n",
      "Running iteration 6...\n",
      "Running iteration 7...\n",
      "Running iteration 8...\n",
      "Running iteration 9...\n",
      "Running iteration 10...\n",
      "Reached maximum iterations.\n",
      "\n",
      "\n",
      "Final PageRange vector:\n",
      "[[1.36319052e-04]\n",
      " [9.64711622e-05]\n",
      " [6.72644519e-05]\n",
      " ...\n",
      " [7.32876610e-05]\n",
      " [9.73028219e-05]\n",
      " [6.13970209e-05]]\n",
      "Wall time: 7.98 ms\n"
     ]
    }
   ],
   "source": [
    "%%time\n",
    "\n",
    "# Implementing power iteration method shown in slide 5 of Lecture 9.\n",
    "\n",
    "# initialize the PageRank vector to be 1/N for all entries, where N is the total number of webpage in the graph\n",
    "PageRank = ((1/rows) * np.ones(rows)).reshape(-1, 1)\n",
    "\n",
    "# Setting max iterations\n",
    "T = 10\n",
    "t = 1\n",
    "\n",
    "# Initializing r0\n",
    "r = [e / rows]\n",
    "\n",
    "while True:\n",
    "    print('Running iteration {}...'.format(t))\n",
    "    \n",
    "    r_t = r[-1]\n",
    "    r_hat_t1 = beta * MS.dot(r_t)\n",
    "    S = np.matmul(e.T, r_hat_t1)\n",
    "    r_t1 = r_hat_t1 + (((1 - S) /rows) * e)\n",
    "    r.append(r_t1)\n",
    "    \n",
    "    # Stop condition\n",
    "    if t >= T:\n",
    "        print('Reached maximum iterations.\\n\\n')\n",
    "        PageRank = r[-1]\n",
    "        break\n",
    "\n",
    "    t += 1\n",
    "    \n",
    "print('Final PageRange vector:')\n",
    "print(PageRank)"
   ]
  },
  {
   "cell_type": "markdown",
   "metadata": {},
   "source": [
    "#### If you use matrix-vector operations, the computational time for Q3 should be roughly the same as Q2. But this method does not require you to pre-process matrix M to solve the dead-end node issue "
   ]
  },
  {
   "cell_type": "markdown",
   "metadata": {},
   "source": [
    "<div class=\"alert alert-info\">\n",
    "<b>Question 4 (10 points): Transform the original matrix M into a table like data structure (could be dataframe or list or whatever) such that it has 2 columns: one is the label of the website; the other is the set of websites that are pointed by this website (i.e., the set of destination nodes). Note that for some rows, this set could be empty, in which case, it means the current website is a dead-end node in the graph </b> \n",
    "</div>"
   ]
  },
  {
   "cell_type": "code",
   "execution_count": 17,
   "metadata": {
    "scrolled": true
   },
   "outputs": [
    {
     "data": {
      "text/html": [
       "<div>\n",
       "<style scoped>\n",
       "    .dataframe tbody tr th:only-of-type {\n",
       "        vertical-align: middle;\n",
       "    }\n",
       "\n",
       "    .dataframe tbody tr th {\n",
       "        vertical-align: top;\n",
       "    }\n",
       "\n",
       "    .dataframe thead th {\n",
       "        text-align: right;\n",
       "    }\n",
       "</style>\n",
       "<table border=\"1\" class=\"dataframe\">\n",
       "  <thead>\n",
       "    <tr style=\"text-align: right;\">\n",
       "      <th></th>\n",
       "      <th>Node</th>\n",
       "      <th>Destination Nodes</th>\n",
       "    </tr>\n",
       "  </thead>\n",
       "  <tbody>\n",
       "    <tr>\n",
       "      <th>0</th>\n",
       "      <td>0</td>\n",
       "      <td>[2725, 2763, 3575, 4377, 6221, 7798, 7852, 801...</td>\n",
       "    </tr>\n",
       "    <tr>\n",
       "      <th>1</th>\n",
       "      <td>1</td>\n",
       "      <td>[137, 753, 1434, 2182, 3163, 3646, 3684, 3702,...</td>\n",
       "    </tr>\n",
       "    <tr>\n",
       "      <th>2</th>\n",
       "      <td>2</td>\n",
       "      <td>[473, 1843, 6748]</td>\n",
       "    </tr>\n",
       "    <tr>\n",
       "      <th>3</th>\n",
       "      <td>3</td>\n",
       "      <td>[67, 433, 537, 1068, 1118, 1191, 1236, 1953, 2...</td>\n",
       "    </tr>\n",
       "    <tr>\n",
       "      <th>4</th>\n",
       "      <td>4</td>\n",
       "      <td>[]</td>\n",
       "    </tr>\n",
       "  </tbody>\n",
       "</table>\n",
       "</div>"
      ],
      "text/plain": [
       "  Node                                  Destination Nodes\n",
       "0    0  [2725, 2763, 3575, 4377, 6221, 7798, 7852, 801...\n",
       "1    1  [137, 753, 1434, 2182, 3163, 3646, 3684, 3702,...\n",
       "2    2                                  [473, 1843, 6748]\n",
       "3    3  [67, 433, 537, 1068, 1118, 1191, 1236, 1953, 2...\n",
       "4    4                                                 []"
      ]
     },
     "execution_count": 17,
     "metadata": {},
     "output_type": "execute_result"
    }
   ],
   "source": [
    "df = pd.DataFrame(columns=['Node', 'Destination Nodes'])\n",
    "\n",
    "for j in range(cols):\n",
    "    df.loc[j, 'Node'] = j\n",
    "    df.at[j, 'Destination Nodes'] = np.argwhere(M[:, j] == 1).reshape(-1).tolist()\n",
    "\n",
    "df.head()"
   ]
  },
  {
   "cell_type": "markdown",
   "metadata": {},
   "source": [
    "#### Implement the algorithm shown in slide 7 of lecture 9 using the table you have just created. <u> Print the PageRank vector after 10 iterations and the runtime. </u>"
   ]
  },
  {
   "cell_type": "code",
   "execution_count": 18,
   "metadata": {},
   "outputs": [
    {
     "name": "stdout",
     "output_type": "stream",
     "text": [
      "Running iteration 1...\n",
      "Running iteration 2...\n",
      "Running iteration 3...\n",
      "Running iteration 4...\n",
      "Running iteration 5...\n",
      "Running iteration 6...\n",
      "Running iteration 7...\n",
      "Running iteration 8...\n",
      "Running iteration 9...\n",
      "Running iteration 10...\n",
      "Reached maximum iterations.\n",
      "\n",
      "\n",
      "Final PageRange vector:\n",
      "[[1.36319052e-04]\n",
      " [9.64711622e-05]\n",
      " [6.72644519e-05]\n",
      " ...\n",
      " [7.32876610e-05]\n",
      " [9.73028219e-05]\n",
      " [6.13970209e-05]]\n",
      "Wall time: 10.7 s\n"
     ]
    }
   ],
   "source": [
    "%%time\n",
    "\n",
    "# initialize the PageRank vector to be 1/N for all entries, where N is the total number of webpage in the graph\n",
    "PageRank_old = e/rows\n",
    "PageRank_new = np.zeros(rows).reshape(-1, 1)\n",
    "\n",
    "# Setting max iterations\n",
    "T = 10\n",
    "t = 1\n",
    "\n",
    "while True:\n",
    "    print('Running iteration {}...'.format(t))\n",
    "    \n",
    "    for j in range(rows):\n",
    "        destination_nodes = df.at[j, 'Destination Nodes']\n",
    "        num_outbound = len(destination_nodes)\n",
    "        \n",
    "        # Skipping dead-end nodes\n",
    "        if num_outbound == 0:\n",
    "            continue\n",
    "            \n",
    "        for i in destination_nodes:\n",
    "            PageRank_new[i] += beta * (PageRank_old[j] / num_outbound)\n",
    "\n",
    "    S = np.matmul(e.T, PageRank_new)\n",
    "\n",
    "    for j in range(rows):\n",
    "        PageRank_new[j] = PageRank_new[j] + ((1 - S)/rows)\n",
    "    \n",
    "    PageRank_old = PageRank_new\n",
    "    PageRank_new = np.zeros(rows).reshape(-1, 1)\n",
    "    \n",
    "    # Stop condition\n",
    "    if t >= T:\n",
    "        print('Reached maximum iterations.\\n\\n')\n",
    "        PageRank = PageRank_new\n",
    "        break\n",
    "    \n",
    "    t += 1\n",
    "\n",
    "print('Final PageRange vector:')\n",
    "print(PageRank_old)"
   ]
  },
  {
   "cell_type": "markdown",
   "metadata": {},
   "source": [
    "#### The computation time should be longer than Q3, but is still at the same scale. This is because the numpy's matrix operation is very efficient and our graph is still not that big"
   ]
  },
  {
   "cell_type": "markdown",
   "metadata": {},
   "source": [
    "<div class=\"alert alert-info\">\n",
    "<b>Question 5 (20 points): Write a map-reduce code to compute the PageRanks for 10 iterations. Initialize the PageRank vector to be 1/N for all entries, where N is the total number of webpages in the graph. Do not use multiprocessing library for this problem </b> \n",
    "</div>"
   ]
  },
  {
   "cell_type": "markdown",
   "metadata": {},
   "source": [
    "If there is warning saying \"IOPub data rate exceeded in Jupyter notebook\"\n",
    "\n",
    "Need to launch Jupyter Notebook through Anaconda Prompt using:\n",
    "jupyter notebook --NotebookApp.iopub_data_rate_limit=1.0e10"
   ]
  },
  {
   "cell_type": "code",
   "execution_count": 19,
   "metadata": {},
   "outputs": [],
   "source": [
    "# you may want to import the following libraries\n",
    "import itertools\n",
    "import collections"
   ]
  },
  {
   "cell_type": "code",
   "execution_count": 20,
   "metadata": {
    "scrolled": false
   },
   "outputs": [
    {
     "data": {
      "text/plain": [
       "[[0, 9.999000099990002e-05],\n",
       " [2725, 2763, 3575, 4377, 6221, 7798, 7852, 8014, 8753, 9575]]"
      ]
     },
     "execution_count": 20,
     "metadata": {},
     "output_type": "execute_result"
    }
   ],
   "source": [
    "# Think carefully about how you will create a new table to express the graph\n",
    "data = []\n",
    "\n",
    "for j in range(rows):\n",
    "    data.append([[df.loc[j, 'Node'], 1/rows], df.at[j, 'Destination Nodes']])\n",
    "\n",
    "data[0]"
   ]
  },
  {
   "cell_type": "markdown",
   "metadata": {},
   "source": [
    "#### Define your mapper and reducer function (10 points)"
   ]
  },
  {
   "cell_type": "code",
   "execution_count": 21,
   "metadata": {},
   "outputs": [],
   "source": [
    "# define your mapper function\n",
    "def mapper_PageRank(data):\n",
    "    node = data[0][0]\n",
    "    PageRank = data[0][1]\n",
    "    destination = data[1]\n",
    "    degree = len(destination)\n",
    "    \n",
    "    return[ [i, beta * PageRank/degree] for i in destination]\n",
    "    \n",
    "# define your reducer function\n",
    "def reducer_PageRank(data):\n",
    "    \n",
    "    return (data[0], sum(data[1]))"
   ]
  },
  {
   "cell_type": "code",
   "execution_count": 22,
   "metadata": {
    "scrolled": true
   },
   "outputs": [],
   "source": [
    "# define other functions that you need"
   ]
  },
  {
   "cell_type": "markdown",
   "metadata": {},
   "source": [
    "#### <u> Print the PageRank vector after 10 iterations and runtime. </u> (10 points)"
   ]
  },
  {
   "cell_type": "code",
   "execution_count": 23,
   "metadata": {
    "scrolled": false
   },
   "outputs": [
    {
     "name": "stdout",
     "output_type": "stream",
     "text": [
      "Running iteration 1...\n",
      "Running iteration 2...\n",
      "Running iteration 3...\n",
      "Running iteration 4...\n",
      "Running iteration 5...\n",
      "Running iteration 6...\n",
      "Running iteration 7...\n",
      "Running iteration 8...\n",
      "Running iteration 9...\n",
      "Running iteration 10...\n",
      "Reached maximum iterations.\n",
      "\n",
      "\n",
      "Final PageRange vector:\n",
      "[[1.36319052e-04]\n",
      " [9.64711622e-05]\n",
      " [6.72644519e-05]\n",
      " ...\n",
      " [7.32876610e-05]\n",
      " [9.73028219e-05]\n",
      " [6.13970209e-05]]\n",
      "Wall time: 3.67 s\n"
     ]
    }
   ],
   "source": [
    "%%time\n",
    "\n",
    "# Setting max iterations\n",
    "T = 10\n",
    "t = 1\n",
    "\n",
    "while True:\n",
    "    print('Running iteration {}...'.format(t))\n",
    "    \n",
    "    mapped_values = map(mapper_PageRank, data)\n",
    "    \n",
    "    partition_value = list(itertools.chain(*mapped_values))\n",
    "    \n",
    "    partitioned_data = collections.defaultdict(list)\n",
    "    for key, value in partition_value:\n",
    "        partitioned_data[key].append(value)\n",
    "    \n",
    "    AT = map(reducer_PageRank, partitioned_data.items())\n",
    "    AT = sorted(AT, key=lambda x: x[0])\n",
    "    \n",
    "    S = sum(AT[i][1] for i in range(rows))\n",
    "\n",
    "    PageRank_new = [AT[i][1] + ((1-S)/rows) for i in range(rows)]\n",
    "\n",
    "    for j in range(rows):\n",
    "        data[j][0][1] = PageRank_new[j]\n",
    "\n",
    "    # Stop condition\n",
    "    if t >= T:\n",
    "        print('Reached maximum iterations.\\n\\n')\n",
    "        PageRank = PageRank_new\n",
    "        break\n",
    "    \n",
    "    t += 1\n",
    "    \n",
    "PageRank = np.array(PageRank_new).reshape(-1, 1)\n",
    "print('Final PageRange vector:')\n",
    "print(PageRank)"
   ]
  },
  {
   "cell_type": "markdown",
   "metadata": {},
   "source": [
    "#### It should take more time to run than Q2---Q4. For a small graph like this one, the map-reduce framework is not as efficient as numpy. But it still should be faster than Q1"
   ]
  },
  {
   "cell_type": "markdown",
   "metadata": {},
   "source": [
    "<div class=\"alert alert-info\">\n",
    "<b>Question 6 (20 points): Redo question 5 but use multiprocessing library for this problem.</b> \n",
    "</div>"
   ]
  },
  {
   "cell_type": "markdown",
   "metadata": {},
   "source": [
    "If there is warning saying \"IOPub data rate exceeded in Jupyter notebook\"\n",
    "\n",
    "Need to launch Jupyter Notebook through Anaconda Prompt using:\n",
    "jupyter notebook --NotebookApp.iopub_data_rate_limit=1.0e10"
   ]
  },
  {
   "cell_type": "markdown",
   "metadata": {},
   "source": [
    "#### <u> Print the PageRank vector after 10 iterations and runtime. </u> "
   ]
  },
  {
   "cell_type": "code",
   "execution_count": 24,
   "metadata": {},
   "outputs": [],
   "source": [
    "import multiprocessing \n",
    "from multiprocessing import Pool\n",
    "# import your functions. Note that in order to use the multiprocessing library, you need to save all of your user-defined \n",
    "# functions into a .py file and import here. If you directly use the functions you have defined in the previous question,\n",
    "# it will run forever\n",
    "import map_reduce"
   ]
  },
  {
   "cell_type": "code",
   "execution_count": 25,
   "metadata": {},
   "outputs": [
    {
     "data": {
      "text/plain": [
       "12"
      ]
     },
     "execution_count": 25,
     "metadata": {},
     "output_type": "execute_result"
    }
   ],
   "source": [
    "num_core = multiprocessing.cpu_count()\n",
    "num_core"
   ]
  },
  {
   "cell_type": "code",
   "execution_count": 26,
   "metadata": {},
   "outputs": [],
   "source": [
    "p = multiprocessing.Pool(num_core)"
   ]
  },
  {
   "cell_type": "code",
   "execution_count": 27,
   "metadata": {
    "scrolled": false
   },
   "outputs": [
    {
     "data": {
      "text/plain": [
       "[[0, 9.999000099990002e-05],\n",
       " [2725, 2763, 3575, 4377, 6221, 7798, 7852, 8014, 8753, 9575]]"
      ]
     },
     "execution_count": 27,
     "metadata": {},
     "output_type": "execute_result"
    }
   ],
   "source": [
    "# Think carefully about how you will create a new table to express the graph\n",
    "data = []\n",
    "\n",
    "for j in range(rows):\n",
    "    data.append([[df.loc[j, 'Node'], 1/rows], df.at[j, 'Destination Nodes']])\n",
    "\n",
    "data[0]"
   ]
  },
  {
   "cell_type": "code",
   "execution_count": 28,
   "metadata": {},
   "outputs": [
    {
     "name": "stdout",
     "output_type": "stream",
     "text": [
      "Running iteration 1...\n",
      "Running iteration 2...\n",
      "Running iteration 3...\n",
      "Running iteration 4...\n",
      "Running iteration 5...\n",
      "Running iteration 6...\n",
      "Running iteration 7...\n",
      "Running iteration 8...\n",
      "Running iteration 9...\n",
      "Running iteration 10...\n",
      "Reached maximum iterations.\n",
      "\n",
      "\n",
      "Final PageRange vector:\n",
      "[[1.36319052e-04]\n",
      " [9.64711622e-05]\n",
      " [6.72644519e-05]\n",
      " ...\n",
      " [7.32876610e-05]\n",
      " [9.73028219e-05]\n",
      " [6.13970209e-05]]\n",
      "Wall time: 4.52 s\n"
     ]
    }
   ],
   "source": [
    "%%time\n",
    "\n",
    "# Setting max iterations\n",
    "T = 10\n",
    "t = 1\n",
    "\n",
    "while True:\n",
    "    print('Running iteration {}...'.format(t))\n",
    "    \n",
    "    mapped_values = p.map(map_reduce.mapper_PageRank, data)\n",
    "    \n",
    "    partition_value = list(itertools.chain(*mapped_values))\n",
    "    \n",
    "    partitioned_data = collections.defaultdict(list)\n",
    "    for key, value in partition_value:\n",
    "        partitioned_data[key].append(value)\n",
    "    \n",
    "    AT = p.map(map_reduce.reducer_PageRank, partitioned_data.items())\n",
    "    AT = sorted(AT, key=lambda x: x[0])\n",
    "    \n",
    "    S = sum(AT[i][1] for i in range(rows))\n",
    "\n",
    "    PageRank_new = [AT[i][1] + ((1-S)/rows) for i in range(rows)]\n",
    "\n",
    "    for j in range(rows):\n",
    "        data[j][0][1] = PageRank_new[j]\n",
    "\n",
    "    # Stop condition\n",
    "    if t >= T:\n",
    "        print('Reached maximum iterations.\\n\\n')\n",
    "        PageRank = PageRank_new\n",
    "        break\n",
    "    \n",
    "    t += 1\n",
    "    \n",
    "PageRank = np.array(PageRank_new).reshape(-1, 1)\n",
    "print('Final PageRange vector:')\n",
    "print(PageRank)"
   ]
  },
  {
   "cell_type": "markdown",
   "metadata": {},
   "source": [
    "#### It could be slower than Q5 but still faster than Q1. **Please do remember uploading the `py` files you created in this question.**"
   ]
  },
  {
   "cell_type": "markdown",
   "metadata": {},
   "source": [
    "#### <u> Record the runtime of all six questions in the table below. </u> Please use the Wall Time with a unit (seconds/ms/...). Below is an example only for illustration."
   ]
  },
  {
   "cell_type": "markdown",
   "metadata": {},
   "source": [
    "| Question | Q1 | Q2 | Q3 | Q4 | Q5 | Q6 |\n",
    "| :-: | :-: | :-: | :-: | :-: | :-: | :-: |\n",
    "| Wall Time | 50s | 119ms(HS) 3.13s(H)| 7.98ms (Matrix-Vector) | 10.7s | 3.67s | 4.52s |\n"
   ]
  }
 ],
 "metadata": {
  "kernelspec": {
   "display_name": "Python 3",
   "language": "python",
   "name": "python3"
  },
  "language_info": {
   "codemirror_mode": {
    "name": "ipython",
    "version": 3
   },
   "file_extension": ".py",
   "mimetype": "text/x-python",
   "name": "python",
   "nbconvert_exporter": "python",
   "pygments_lexer": "ipython3",
   "version": "3.8.8"
  },
  "toc": {
   "base_numbering": 1,
   "nav_menu": {},
   "number_sections": true,
   "sideBar": true,
   "skip_h1_title": false,
   "title_cell": "Table of Contents",
   "title_sidebar": "Contents",
   "toc_cell": false,
   "toc_position": {},
   "toc_section_display": true,
   "toc_window_display": false
  }
 },
 "nbformat": 4,
 "nbformat_minor": 2
}
